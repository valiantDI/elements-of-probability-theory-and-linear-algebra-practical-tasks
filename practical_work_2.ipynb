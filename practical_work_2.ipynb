{
  "nbformat": 4,
  "nbformat_minor": 0,
  "metadata": {
    "colab": {
      "name": "practical_work_2.ipynbb",
      "provenance": [],
      "collapsed_sections": []
    },
    "kernelspec": {
      "display_name": "Python 3",
      "name": "python3"
    }
  },
  "cells": [
    {
      "cell_type": "markdown",
      "metadata": {
        "id": "8wCpDpoV8ZKL"
      },
      "source": [
        "## Моделирование двух нормальных выборок"
      ]
    },
    {
      "cell_type": "code",
      "metadata": {
        "id": "pt_zGjm9z9rL"
      },
      "source": [
        "import math\n",
        "import numpy as np\n",
        "import matplotlib.pyplot as plt\n"
      ],
      "execution_count": null,
      "outputs": []
    },
    {
      "cell_type": "code",
      "metadata": {
        "id": "DZOPjiSQIpTi"
      },
      "source": [
        "def normal_distribution1(m_x, sigma_x, n=50):\n",
        "\n",
        "  sample = []\n",
        "\n",
        "  for i in range(n):\n",
        "    sum = 0\n",
        "    r = np.random.sample(12)\n",
        "    for j in range(12): \n",
        "      sum += r[j]\n",
        "    sum = sum - 6     \n",
        "    xi = m_x + sigma_x * sum\n",
        "    sample.append(xi)\n",
        "  sample1 = np.array(sample)\n",
        "  return sample1\n",
        "\n",
        "sample1 = normal_distribution1(6,1)"
      ],
      "execution_count": null,
      "outputs": []
    },
    {
      "cell_type": "code",
      "metadata": {
        "colab": {
          "base_uri": "https://localhost:8080/",
          "height": 353
        },
        "id": "_rN2aBsR1NfM",
        "outputId": "e70d948a-20bf-42cf-9265-9d5cad480613"
      },
      "source": [
        "plt.hist(normal_distribution1(6,1))"
      ],
      "execution_count": null,
      "outputs": [
        {
          "output_type": "execute_result",
          "data": {
            "text/plain": [
              "(array([ 3.,  7.,  7., 11.,  9.,  8.,  3.,  0.,  1.,  1.]),\n",
              " array([3.95563887, 4.48694267, 5.01824646, 5.54955025, 6.08085405,\n",
              "        6.61215784, 7.14346163, 7.67476543, 8.20606922, 8.73737302,\n",
              "        9.26867681]),\n",
              " <a list of 10 Patch objects>)"
            ]
          },
          "metadata": {
            "tags": []
          },
          "execution_count": 3
        },
        {
          "output_type": "display_data",
          "data": {
            "image/png": "[encoded data removed]",
            "text/plain": [
              "<Figure size 432x288 with 1 Axes>"
            ]
          },
          "metadata": {
            "tags": []
          }
        }
      ]
    },
    {
      "cell_type": "code",
      "metadata": {
        "id": "lqPeAe8A49Rv"
      },
      "source": [
        "def normal_distribution2(m_y, sigma_y, n=100):\n",
        "\n",
        "  sample = []\n",
        "\n",
        "  for i in range(n):\n",
        "    sum = 0\n",
        "    r = np.random.sample(12)\n",
        "    for j in range(12): \n",
        "      sum += r[j]\n",
        "    sum = sum - 6     \n",
        "    xi = m_y + sigma_y * sum\n",
        "    sample.append(xi)\n",
        "  sample2 = np.array(sample)\n",
        "  return sample2\n",
        "\n",
        "sample2 = normal_distribution1(7.5,4)"
      ],
      "execution_count": null,
      "outputs": []
    },
    {
      "cell_type": "code",
      "metadata": {
        "colab": {
          "base_uri": "https://localhost:8080/",
          "height": 353
        },
        "id": "lM5xjVZd1PBY",
        "outputId": "c724d03b-bc62-4c38-a0bd-a0a9fef7785e"
      },
      "source": [
        "plt.hist(normal_distribution2(7.5, 4))"
      ],
      "execution_count": null,
      "outputs": [
        {
          "output_type": "execute_result",
          "data": {
            "text/plain": [
              "(array([ 3.,  4., 13., 16., 23., 19., 12.,  7.,  2.,  1.]),\n",
              " array([-1.8623865 ,  0.1997377 ,  2.26186191,  4.32398612,  6.38611032,\n",
              "         8.44823453, 10.51035874, 12.57248294, 14.63460715, 16.69673136,\n",
              "        18.75885556]),\n",
              " <a list of 10 Patch objects>)"
            ]
          },
          "metadata": {
            "tags": []
          },
          "execution_count": 5
        },
        {
          "output_type": "display_data",
          "data": {
            "image/png": "[encoded data removed]",
            "text/plain": [
              "<Figure size 432x288 with 1 Axes>"
            ]
          },
          "metadata": {
            "tags": []
          }
        }
      ]
    },
    {
      "cell_type": "markdown",
      "metadata": {
        "id": "qtjKlaIq7a5j"
      },
      "source": [
        "## Проверка гипотез"
      ]
    },
    {
      "cell_type": "code",
      "metadata": {
        "id": "1vhTxyKETme1"
      },
      "source": [
        "alpha = 0.1\n",
        "m_x, sigma_x = 6, 1\n",
        "m_y ,sigma_y = 7.5, 4\n",
        "n1, n2 = 50, 100"
      ],
      "execution_count": null,
      "outputs": []
    },
    {
      "cell_type": "markdown",
      "metadata": {
        "id": "D44K5B_3EGpZ"
      },
      "source": [
        "1. Проверка гиотезы о числовом значении математического ожидания нормального распределения при известной дисперсии:"
      ]
    },
    {
      "cell_type": "code",
      "metadata": {
        "colab": {
          "base_uri": "https://localhost:8080/"
        },
        "id": "XzuamieM7bIn",
        "outputId": "feaaabee-cc22-4157-ff05-b4dcf6b6cd60"
      },
      "source": [
        "sample1 = normal_distribution1(m_x, sigma_x)\n",
        "t_left = -1.64 # Левая граница интервала для alpha = 0 .1 (Лаплас)\n",
        "t_right = 1.64 # Правая граница интервала для alpha = 0 .1\n",
        "a = 6 # предположение о численом значении мат. ожидания\n",
        "\n",
        "sum = 0\n",
        "for i in sample1:\n",
        "  sum += i\n",
        "\n",
        "x_mean = 1 / n1 * sum\n",
        "z = (x_mean - a) / math.sqrt(sigma_x / n1)\n",
        "\n",
        "print(f'Выборочное среднее: {x_mean}')\n",
        "print(f'Значение статистики: {z}')\n",
        "if z < t_left or z > t_right:\n",
        "  print(f'Гипотеза H0 отвергается с уровнем значимости alpha = {alpha}')\n",
        "  print(f'Принимается гипотеза H1: m_x != a')\n",
        "else:\n",
        "  print(f'Гипотеза H0 принимается с уровнем значимости alpha = {alpha}')\n"
      ],
      "execution_count": null,
      "outputs": [
        {
          "output_type": "stream",
          "text": [
            "Выборочное среднее: 5.889264107684095\n",
            "Значение статистики: -0.7830210037731955\n",
            "Гипотеза H0 принимается с уровнем значимости alpha = 0.1\n"
          ],
          "name": "stdout"
        }
      ]
    },
    {
      "cell_type": "code",
      "metadata": {
        "colab": {
          "base_uri": "https://localhost:8080/"
        },
        "id": "RSsCt9n-BMon",
        "outputId": "c4b13017-ba1b-4e3c-f0b6-9b123b74bcd4"
      },
      "source": [
        "sample2 = normal_distribution2(m_y, sigma_y)\n",
        "t_left = -1.64 # Левая граница интервала для alpha = 0 .1 (Лаплас)\n",
        "t_right = 1.64 # Правая граница интервала для alpha = 0 .1\n",
        "a = 7.5 # предположение о численом значении мат. ожидания\n",
        "\n",
        "sum = 0\n",
        "for i in sample2:\n",
        "  sum += i\n",
        "\n",
        "y_mean = 1 / n2 * sum\n",
        "z = (y_mean - a) / math.sqrt(sigma_x / n2)\n",
        "\n",
        "print(f'Выборочное среднее: {y_mean}')\n",
        "print(f'Значение статистики: {z}')\n",
        "if z < t_left or z > t_right:\n",
        "  print(f'Гипотеза H0 отвергается с уровнем значимости alpha = {alpha}')\n",
        "  print(f'Принимается гипотеза H1: m_y != a')\n",
        "else:\n",
        "  print(f'Гипотеза H0 принимается с уровнем значимости alpha = {alpha}')"
      ],
      "execution_count": null,
      "outputs": [
        {
          "output_type": "stream",
          "text": [
            "Выборочное среднее: 7.544763463109775\n",
            "Значение статистики: 0.4476346310977508\n",
            "Гипотеза H0 принимается с уровнем значимости alpha = 0.1\n"
          ],
          "name": "stdout"
        }
      ]
    },
    {
      "cell_type": "markdown",
      "metadata": {
        "id": "RPAITXgUEalj"
      },
      "source": [
        "2. Проверка гипотезы о числовом значении математического ожидания нормального распределения при неизвестной дисперсии: "
      ]
    },
    {
      "cell_type": "code",
      "metadata": {
        "colab": {
          "base_uri": "https://localhost:8080/"
        },
        "id": "FQPPdAGbTLv1",
        "outputId": "8682aaf4-28a1-4a6a-ba87-522e92f3768f"
      },
      "source": [
        "sample1 = normal_distribution1(m_x, sigma_x)\n",
        "t_left = 0.063029 # Левая граница интервала для alpha = 0 .1 (Стьюдент)\n",
        "t_right = 2.009575 # Правая граница интервала для alpha = 0 .1\n",
        "a = 6 # предположение о численом значении мат. ожидания\n",
        "\n",
        "sum = 0\n",
        "for i in sample1:\n",
        "  sum += i\n",
        "\n",
        "x_mean = (1 / n1) * sum\n",
        "\n",
        "sum_sqr = 0\n",
        "for i in sample1:\n",
        "  sum_sqr += (i - x_mean) ** 2\n",
        "\n",
        "s = (1 / (n1 - 1)) * sum_sqr\n",
        "\n",
        "z = (x_mean - a) / math.sqrt(s / n1)\n",
        "\n",
        "\n",
        "print(f'Оценка дисперсия: {s}')\n",
        "print(f'Выборочное среднее: {x_mean}')\n",
        "print(f'Значение статистики: {z}')\n",
        "if z < t_left or z > t_right:\n",
        "  print(f'Гипотеза H0 отвергается с уровнем значимости alpha = {alpha}')\n",
        "  print(f'Принимается гипотеза H1: m_x != a')\n",
        "else:\n",
        "  print(f'Гипотеза H0 принимается с уровнем значимости alpha = {alpha}')"
      ],
      "execution_count": null,
      "outputs": [
        {
          "output_type": "stream",
          "text": [
            "Оценка дисперсия: 0.7529518936962132\n",
            "Выборочное среднее: 5.987011627079824\n",
            "Значение статистики: -0.10584153671433638\n",
            "Гипотеза H0 отвергается с уровнем значимости alpha = 0.1\n",
            "Принимается гипотеза H1: m_x != a\n"
          ],
          "name": "stdout"
        }
      ]
    },
    {
      "cell_type": "code",
      "metadata": {
        "colab": {
          "base_uri": "https://localhost:8080/"
        },
        "id": "AgU2OU_CukL8",
        "outputId": "da4e2a9b-3f7f-4ab7-8c40-850d34ffe5ea"
      },
      "source": [
        "sample2 = normal_distribution2(m_y, sigma_y)\n",
        "t_left = 0.062866 # Левая граница интервала для alpha = 0 .1 (Стьюдент)\n",
        "t_right = 1.984217 # Правая граница интервала для alpha = 0 .1\n",
        "a = 7.5 # предположение о численом значении мат. ожидания\n",
        "\n",
        "sum = 0\n",
        "for i in sample2:\n",
        "  sum += i\n",
        "\n",
        "y_mean = (1 / n2) * sum\n",
        "\n",
        "sum_sqr = 0\n",
        "for i in sample2:\n",
        "  sum_sqr += (i - y_mean) ** 2\n",
        "\n",
        "s = (1 / (n2 - 1)) * sum_sqr\n",
        "\n",
        "z = (y_mean - a) / math.sqrt(s / n2)\n",
        "\n",
        "print(f'Оценка дисперсии: {s}')\n",
        "print(f'Выборочное среднее: {y_mean}')\n",
        "print(f'Значение статистики: {z}')\n",
        "if z < t_left or z > t_right:\n",
        "  print(f'Гипотеза H0 отвергается с уровнем значимости alpha = {alpha}')\n",
        "  print(f'Принимается гипотеза H1: m_y != a')\n",
        "else:\n",
        "  print(f'Гипотеза H0 принимается с уровнем значимости alpha = {alpha}')"
      ],
      "execution_count": null,
      "outputs": [
        {
          "output_type": "stream",
          "text": [
            "Оценка дисперсии: 17.15573898191458\n",
            "Выборочное среднее: 7.3236711013234\n",
            "Значение статистики: -0.4257148306577273\n",
            "Гипотеза H0 отвергается с уровнем значимости alpha = 0.1\n",
            "Принимается гипотеза H1: m_y != a\n"
          ],
          "name": "stdout"
        }
      ]
    },
    {
      "cell_type": "markdown",
      "metadata": {
        "id": "mBerJkPwEa7v"
      },
      "source": [
        "3. Проверка гипотезы о числовом значении дисперсии нормального распределния:"
      ]
    },
    {
      "cell_type": "code",
      "metadata": {
        "colab": {
          "background_save": true,
          "base_uri": "https://localhost:8080/"
        },
        "id": "bavCGEEZTMS3",
        "outputId": "b566b418-a762-412c-a85b-cef5f9dfbcec"
      },
      "source": [
        "sample1 = normal_distribution1(m_x, sigma_x)\n",
        "t_left = 33.93031 # Левая граница интервала для alpha = 0 .1\n",
        "t_right = 66.33865 # Правая граница интервала для alpha = 0 .1\n",
        "sigma = 1 # предположение о численом значении дисперсии\n",
        "\n",
        "sum = 0\n",
        "for i in sample1:\n",
        "  sum += i\n",
        "\n",
        "x_mean = (1 / n1) * sum # выборочное среднее\n",
        "\n",
        "sum_sqr = 0\n",
        "for i in sample1:\n",
        "  sum_sqr += (i - x_mean) ** 2\n",
        "\n",
        "s = (1 / (n1 - 1)) * sum_sqr\n",
        "\n",
        "z = (n1 - 1) * (s / sigma)\n",
        "\n",
        "print(sum_sqr)\n",
        "print(f'Оценка дисперсии: {s}')\n",
        "print(f'Выборочное среднее: {x_mean}')\n",
        "print(f'Значение статистики: {z}')\n",
        "if z < t_left or z > t_right:\n",
        "  print(f'Гипотеза H0 отвергается с уровнем значимости alpha = {alpha}')\n",
        "  print(f'Принимается гипотеза H1: sigma_x != a')\n",
        "else:\n",
        "  print(f'Гипотеза H0 принимается с уровнем значимости alpha = {alpha}')"
      ],
      "execution_count": null,
      "outputs": [
        {
          "output_type": "stream",
          "text": [
            "41.863510373672476\n",
            "Оценка дисперсии: 0.8543573545647444\n",
            "Выборочное среднее: 5.808748363061064\n",
            "Значение статистики: 41.863510373672476\n",
            "Гипотеза H0 принимается с уровнем значимости alpha = 0.1\n"
          ],
          "name": "stdout"
        }
      ]
    },
    {
      "cell_type": "code",
      "metadata": {
        "colab": {
          "base_uri": "https://localhost:8080/"
        },
        "id": "_k-J0L0ezqxc",
        "outputId": "e80456a1-6ccc-46e6-cce2-eebc7278fbec"
      },
      "source": [
        "sample2 = normal_distribution2(m_y, sigma_y)\n",
        "t_left = 77.04633 # Левая граница интервала для alpha = 0 .1\n",
        "t_right = 123.2252 # Правая граница интервала для alpha = 0 .1\n",
        "sigma = 4 # предположение о численом значении дисперсии\n",
        "\n",
        "sum = 0\n",
        "for i in sample2:\n",
        "  sum += i\n",
        "\n",
        "y_mean = (1 / n2) * sum # выборочное среднее\n",
        "\n",
        "sum_sqr = 0\n",
        "for i in sample2:\n",
        "  sum_sqr += (i - y_mean) ** 2\n",
        "\n",
        "s = (1 / (n2 - 1)) * sum_sqr\n",
        "\n",
        "z = (n2 - 1) * (math.sqrt(s) / sigma)\n",
        "\n",
        "print(sum_sqr)\n",
        "print(f'Оценка дисперсии: {s}')\n",
        "print(f'Выборочное среднее: {y_mean}')\n",
        "print(f'Значение статистики: {z}')\n",
        "if z < t_left or z > t_right:\n",
        "  print(f'Гипотеза H0 отвергается с уровнем значимости alpha = {alpha}')\n",
        "  print(f'Принимается гипотеза H1: sigma_y != a')\n",
        "else:\n",
        "  print(f'Гипотеза H0 принимается с уровнем значимости alpha = {alpha}')"
      ],
      "execution_count": null,
      "outputs": [
        {
          "output_type": "stream",
          "text": [
            "1728.5458614355737\n",
            "Оценка дисперсии: 17.46005920641994\n",
            "Выборочное среднее: 7.337089344094017\n",
            "Значение статистики: 103.41845830233892\n",
            "Гипотеза H0 принимается с уровнем значимости alpha = 0.1\n"
          ],
          "name": "stdout"
        }
      ]
    },
    {
      "cell_type": "markdown",
      "metadata": {
        "id": "a8Mq-GElEay_"
      },
      "source": [
        "4. Проверка гипотезы о равенстве математического ожидания двух нормальных распределений с известными дисперсиями:"
      ]
    },
    {
      "cell_type": "code",
      "metadata": {
        "colab": {
          "base_uri": "https://localhost:8080/"
        },
        "id": "goADCl5gTMup",
        "outputId": "b63ad3ca-4196-41f9-c4d3-df6596159fe6"
      },
      "source": [
        "sample1 = normal_distribution1(m_x, sigma_x)\n",
        "sample2 = normal_distribution2(m_x, sigma_y)\n",
        "\n",
        "t_left = -1.64 # Левая граница интервала для alpha = 0 .1 (Лаплас)\n",
        "t_right = 1.64 # Правая граница интервала для alpha = 0 .1\n",
        "\n",
        "sum = 0\n",
        "for i in sample1:\n",
        "  sum += i\n",
        "\n",
        "x_mean = (1 / n1) * sum # выборочное среднее\n",
        "\n",
        "sum = 0\n",
        "for i in sample2:\n",
        "  sum += i\n",
        "\n",
        "y_mean = (1 / n2) * sum # выборочное среднее\n",
        "\n",
        "z = (x_mean - y_mean) / math.sqrt((sigma_x / n1) + (sigma_y / n2))\n",
        "\n",
        "print(f'Значение статистики: {z}')\n",
        "if z < t_left or z > t_right:\n",
        "  print(f'Гипотеза H0 отвергается с уровнем значимости alpha = {alpha}')\n",
        "  print(f'Принимается гипотеза H1: m_x != m_y')\n",
        "else:\n",
        "  print(f'Гипотеза H0 принимается с уровнем значимости alpha = {alpha}')"
      ],
      "execution_count": null,
      "outputs": [
        {
          "output_type": "stream",
          "text": [
            "Значение статистики: 0.6599171394732511\n",
            "Гипотеза H0 принимается с уровнем значимости alpha = 0.1\n"
          ],
          "name": "stdout"
        }
      ]
    },
    {
      "cell_type": "markdown",
      "metadata": {
        "id": "UqheRBIlEbEN"
      },
      "source": [
        "5. Проверка гипотезы о равенстве математических ожиданий двух нормальных распределений с неизвестными, но равными дисперсиями:"
      ]
    },
    {
      "cell_type": "code",
      "metadata": {
        "colab": {
          "base_uri": "https://localhost:8080/"
        },
        "id": "QDI_IKTKTNIP",
        "outputId": "3338204d-d152-4b19-872a-76e0d9371b57"
      },
      "source": [
        "sample1 = normal_distribution1(m_x, sigma_x)\n",
        "sample2 = normal_distribution2(m_x, sigma_x)\n",
        "\n",
        "t_left = 0.062813 # Левая граница интервала для alpha = 0 .1 (Стьюдента)\n",
        "t_right = 1.976172 # Правая граница интервала для alpha = 0 .1\n",
        "\n",
        "sum = 0\n",
        "for i in sample1:\n",
        "  sum += i\n",
        "\n",
        "x_mean = (1 / n1) * sum # выборочное среднее\n",
        "\n",
        "sum = 0\n",
        "for i in sample2:\n",
        "  sum += i\n",
        "\n",
        "y_mean = (1 / n2) * sum # выборочное среднее\n",
        "\n",
        "sum_sqr = 0\n",
        "for i in sample1:\n",
        "  sum_sqr += (i - x_mean) ** 2\n",
        "\n",
        "s1 = (1 / (n1 - 1)) * sum_sqr\n",
        "\n",
        "sum_sqr = 0\n",
        "for i in sample2:\n",
        "  sum_sqr += (i - y_mean) ** 2\n",
        "\n",
        "s2 = (1 / (n2 - 1)) * sum_sqr\n",
        "\n",
        "z = (x_mean - y_mean) / math.sqrt((1 / n1 + 1 / n2) * ((s1 * (n1 - 1) + s2 * (n2 - 1)) / (n1 + n2 - 2)))\n",
        "\n",
        "print(f'Значение статистики: {z}')\n",
        "if z < t_left or z > t_right:\n",
        "  print(f'Гипотеза H0 отвергается с уровнем значимости alpha = {alpha}')\n",
        "  print(f'Принимается гипотеза H1: m_x != m_y')\n",
        "else:\n",
        "  print(f'Гипотеза H0 принимается с уровнем значимости alpha = {alpha}')"
      ],
      "execution_count": null,
      "outputs": [
        {
          "output_type": "stream",
          "text": [
            "Значение статистики: 0.3517022538595742\n",
            "Гипотеза H0 принимается с уровнем значимости alpha = 0.1\n"
          ],
          "name": "stdout"
        }
      ]
    },
    {
      "cell_type": "markdown",
      "metadata": {
        "id": "83NfQQlwEbRJ"
      },
      "source": [
        "6. Проверка гипотезы о равенстве дисперсий двух нормальных распределений:"
      ]
    },
    {
      "cell_type": "code",
      "metadata": {
        "colab": {
          "base_uri": "https://localhost:8080/"
        },
        "id": "rU4Li6gaTNtm",
        "outputId": "287447ea-074c-4955-e111-229522842ae3"
      },
      "source": [
        "sample1 = normal_distribution1(m_x, sigma_x)\n",
        "sample2 = normal_distribution2(m_y, sigma_x)\n",
        "\n",
        "t_left = 0.653168 # Левая граница интервала для alpha = 0 .1 (Фишер)\n",
        "t_right = 1.481672 # Правая граница интервала для alpha = 0 .1\n",
        "\n",
        "sum = 0\n",
        "for i in sample1:\n",
        "  sum += i\n",
        "\n",
        "x_mean = (1 / n1) * sum # выборочное среднее\n",
        "\n",
        "sum = 0\n",
        "for i in sample2:\n",
        "  sum += i\n",
        "\n",
        "y_mean = (1 / n2) * sum # выборочное среднее\n",
        "\n",
        "sum_sqr = 0\n",
        "for i in sample1:\n",
        "  sum_sqr += (i - x_mean) ** 2\n",
        "\n",
        "s1 = (1 / (n1 - 1)) * sum_sqr\n",
        "\n",
        "sum_sqr = 0\n",
        "for i in sample2:\n",
        "  sum_sqr += (i - y_mean) ** 2\n",
        "\n",
        "s2 = (1 / (n2 - 1)) * sum_sqr\n",
        "\n",
        "z = s2 / s1\n",
        "\n",
        "print(f'Значение статистики: {z}')\n",
        "if z < t_left or z > t_right:\n",
        "  print(f'Гипотеза H0 отвергается с уровнем значимости alpha = {alpha}')\n",
        "  print(f'Принимается гипотеза H1: sigma_x != sigma_y')\n",
        "else:\n",
        "  print(f'Гипотеза H0 принимается с уровнем значимости alpha = {alpha}')"
      ],
      "execution_count": null,
      "outputs": [
        {
          "output_type": "stream",
          "text": [
            "Значение статистики: 1.1387976794536403\n",
            "Гипотеза H0 принимается с уровнем значимости alpha = 0.1\n"
          ],
          "name": "stdout"
        }
      ]
    }
  ]
}