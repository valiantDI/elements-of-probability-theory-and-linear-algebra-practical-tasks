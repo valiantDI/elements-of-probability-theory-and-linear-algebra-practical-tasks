{
  "nbformat": 4,
  "nbformat_minor": 0,
  "metadata": {
    "colab": {
      "name": "practical_work_3.ipynb",
      "provenance": [],
      "collapsed_sections": []
    },
    "kernelspec": {
      "name": "python3",
      "display_name": "Python 3"
    }
  },
  "cells": [
    {
      "cell_type": "code",
      "metadata": {
        "id": "chjfllzvrRGK"
      },
      "source": [
        "import math\n",
        "import numpy as np\n",
        "import matplotlib.pyplot as plt"
      ],
      "execution_count": null,
      "outputs": []
    },
    {
      "cell_type": "code",
      "metadata": {
        "id": "9x51dU8Dw8U_",
        "colab": {
          "base_uri": "https://localhost:8080/",
          "height": 282
        },
        "outputId": "c785b54f-3f48-4bca-da58-7dd55ee9eb57"
      },
      "source": [
        "x = np.array([2, 5, 8, 10, 14, 15, 4, 12, 3, 7, 6]) # x, y - парные наблюдения, x - регрессор - неслучайна и вычисляется без ошибок\n",
        "y = np.array([14.39, 9.45, 7.05, 5.32, 16.94, 1.97, 8.75, 3.41, 13.37, 8.22, 9.39])\n",
        "gamma = 0.9\n",
        "n = len(x)\n",
        "plt.scatter(x, y)"
      ],
      "execution_count": null,
      "outputs": [
        {
          "output_type": "execute_result",
          "data": {
            "text/plain": [
              "<matplotlib.collections.PathCollection at 0x7fc9a0d519b0>"
            ]
          },
          "metadata": {
            "tags": []
          },
          "execution_count": 2
        },
        {
          "output_type": "display_data",
          "data": {
            "image/png": "[encoded data removed]",
            "text/plain": [
              "<Figure size 432x288 with 1 Axes>"
            ]
          },
          "metadata": {
            "tags": [],
            "needs_background": "light"
          }
        }
      ]
    },
    {
      "cell_type": "code",
      "metadata": {
        "colab": {
          "base_uri": "https://localhost:8080/"
        },
        "id": "ALP7DkcHBJBd",
        "outputId": "693efdf0-a0f7-42d0-9331-597f7778fb84"
      },
      "source": [
        "sum = 0\n",
        "for i in x:\n",
        "  sum += i\n",
        "x_mean = (1 / len(x)) * sum\n",
        "\n",
        "sum = 0\n",
        "for i in y:\n",
        "  sum += i\n",
        "y_mean = (1 / len(y)) * sum\n",
        "\n",
        "print(f'Средние значения x и y соответственно: {x_mean, y_mean}')"
      ],
      "execution_count": null,
      "outputs": [
        {
          "output_type": "stream",
          "text": [
            "Средние значения x и y соответственно: (7.818181818181818, 8.932727272727274)\n"
          ],
          "name": "stdout"
        }
      ]
    },
    {
      "cell_type": "markdown",
      "metadata": {
        "id": "A43zzD4AAJBD"
      },
      "source": [
        "## Подбор параметров линейной регрессионной зависимости."
      ]
    },
    {
      "cell_type": "markdown",
      "metadata": {
        "id": "mO-tsb_8J0oH"
      },
      "source": [
        "Составление вспомогательной \"таблицы\":"
      ]
    },
    {
      "cell_type": "code",
      "metadata": {
        "colab": {
          "base_uri": "https://localhost:8080/"
        },
        "id": "S499H6gUBFhX",
        "outputId": "496a7c74-32c7-4fe2-a95a-3a9845ec5684"
      },
      "source": [
        "# Нахождение xi - x_mean\n",
        "dif_x = []\n",
        "for i in x:\n",
        "  dif_x.append(i - x_mean)\n",
        "dif_x = np.array(dif_x)\n",
        "\n",
        "# Нахождение yi - y_mean\n",
        "dif_y = []\n",
        "for i in y:\n",
        "  dif_y.append(i - y_mean)\n",
        "dif_y = np.array(dif_y)\n",
        "\n",
        "print(f'Значения xi - x_mean: {dif_x}')\n",
        "print(f'Значения yi - y_mean: {dif_y}')"
      ],
      "execution_count": null,
      "outputs": [
        {
          "output_type": "stream",
          "text": [
            "Значения xi - x_mean: [-5.81818182 -2.81818182  0.18181818  2.18181818  6.18181818  7.18181818\n",
            " -3.81818182  4.18181818 -4.81818182 -0.81818182 -1.81818182]\n",
            "Значения yi - y_mean: [ 5.45727273  0.51727273 -1.88272727 -3.61272727  8.00727273 -6.96272727\n",
            " -0.18272727 -5.52272727  4.43727273 -0.71272727  0.45727273]\n"
          ],
          "name": "stdout"
        }
      ]
    },
    {
      "cell_type": "code",
      "metadata": {
        "colab": {
          "base_uri": "https://localhost:8080/"
        },
        "id": "Q6lPWS07KhGM",
        "outputId": "c5a7c0e4-25ca-498a-e150-45e5920bb11e"
      },
      "source": [
        "# Нахождение (xi - x_mean)^2\n",
        "dif_x_sqr = []\n",
        "for i in x:\n",
        "  dif_x_sqr.append((i - x_mean) ** 2)\n",
        "dif_x_sqr = np.array(dif_x_sqr)\n",
        "\n",
        "sum_dif_x_sqr = dif_x_sqr.sum()\n",
        "\n",
        "print(f'Значения (xi - x_mean)^2: {dif_x_sqr}')\n",
        "print(f'Сумма (xi - x_mean)^2: {sum_dif_x_sqr}')"
      ],
      "execution_count": null,
      "outputs": [
        {
          "output_type": "stream",
          "text": [
            "Значения (xi - x_mean)^2: [3.38512397e+01 7.94214876e+00 3.30578512e-02 4.76033058e+00\n",
            " 3.82148760e+01 5.15785124e+01 1.45785124e+01 1.74876033e+01\n",
            " 2.32148760e+01 6.69421488e-01 3.30578512e+00]\n",
            "Сумма (xi - x_mean)^2: 195.63636363636365\n"
          ],
          "name": "stdout"
        }
      ]
    },
    {
      "cell_type": "code",
      "metadata": {
        "colab": {
          "base_uri": "https://localhost:8080/"
        },
        "id": "1x4cF5Xuj61V",
        "outputId": "250fdeae-c50f-4780-aad3-9764fab08732"
      },
      "source": [
        "# Нахождение (xi - x_mean)(yi - y_mean)\n",
        "mult = []\n",
        "for i in range(len(x)):\n",
        " mult.append((x[i] - x_mean) * (y[i] - y_mean))\n",
        "mult = np.array(mult)\n",
        "\n",
        "mult_sum = mult.sum()\n",
        "print(f'Значения (xi - x_mean)*(yi - y_mean): {mult}')\n",
        "print(f'Сумма (xi - x_mean)*(yi - y_mean): {mult_sum}')"
      ],
      "execution_count": null,
      "outputs": [
        {
          "output_type": "stream",
          "text": [
            "Значения (xi - x_mean)*(yi - y_mean): [-31.75140496  -1.4577686   -0.34231405  -7.88231405  49.49950413\n",
            " -50.00504132   0.69768595 -23.09504132 -21.37958678   0.5831405\n",
            "  -0.83140496]\n",
            "Сумма (xi - x_mean)*(yi - y_mean): -85.96454545454544\n"
          ],
          "name": "stdout"
        }
      ]
    },
    {
      "cell_type": "code",
      "metadata": {
        "id": "0ISjagtPgWGI"
      },
      "source": [
        ""
      ],
      "execution_count": null,
      "outputs": []
    },
    {
      "cell_type": "code",
      "metadata": {
        "colab": {
          "base_uri": "https://localhost:8080/"
        },
        "id": "8kLHdLK5faqj",
        "outputId": "0eba075f-f93f-47d9-d5fd-2be020b2361b"
      },
      "source": [
        "a_estim = y_mean\n",
        "sum = 0\n",
        "\n",
        "b_estim = mult_sum / sum_dif_x_sqr\n",
        "\n",
        "print(f'Оценка параметра a: {a_estim}')\n",
        "print(f'Оценка параметра b: {b_estim}')\n"
      ],
      "execution_count": null,
      "outputs": [
        {
          "output_type": "stream",
          "text": [
            "Оценка параметра a: 8.932727272727274\n",
            "Оценка параметра b: -0.43940985130111515\n"
          ],
          "name": "stdout"
        }
      ]
    },
    {
      "cell_type": "code",
      "metadata": {
        "colab": {
          "base_uri": "https://localhost:8080/",
          "height": 316
        },
        "id": "-AcnrBQHgwLo",
        "outputId": "8bf4be19-7585-4f88-ae4b-920fe2f386b0"
      },
      "source": [
        "# y_estim = a + b(x - x_mean)\n",
        "y_estim = []\n",
        "for i in x:\n",
        "  y_estimi = a_estim + b_estim * (i - x_mean) # уравнение регрессии\n",
        "  y_estim.append(y_estimi)\n",
        "print(f'{y_estim}')  \n",
        "plt.plot(x, y_estim)\n",
        "plt.scatter(x, y)\n",
        "plt.title('Регрессионная зависимость')"
      ],
      "execution_count": null,
      "outputs": [
        {
          "output_type": "stream",
          "text": [
            "[11.489293680297397, 10.171064126394052, 8.852834572490707, 7.974014869888477, 6.216375464684017, 5.776965613382901, 10.610473977695168, 7.0951951672862466, 11.049883828996283, 9.292244423791823, 9.731654275092938]\n"
          ],
          "name": "stdout"
        },
        {
          "output_type": "execute_result",
          "data": {
            "text/plain": [
              "Text(0.5, 1.0, 'Регрессионная зависимость')"
            ]
          },
          "metadata": {
            "tags": []
          },
          "execution_count": 8
        },
        {
          "output_type": "display_data",
          "data": {
            "image/png": "[encoded data removed]",
            "text/plain": [
              "<Figure size 432x288 with 1 Axes>"
            ]
          },
          "metadata": {
            "tags": [],
            "needs_background": "light"
          }
        }
      ]
    },
    {
      "cell_type": "markdown",
      "metadata": {
        "id": "No2scJWhuni2"
      },
      "source": [
        "## Построение доверительных интервалов."
      ]
    },
    {
      "cell_type": "markdown",
      "metadata": {
        "id": "NWy2thIdvFVL"
      },
      "source": [
        "Перейдём к построению доверительных интервалов, задава $\\beta$ = 0.9, $\\alpha$ = 1 - $\\beta$ = 0.1. Для получения оценок дисперсий параметров a и b вычислим D, заменив ее оценкой D.   "
      ]
    },
    {
      "cell_type": "code",
      "metadata": {
        "colab": {
          "base_uri": "https://localhost:8080/"
        },
        "id": "qQP-JIhHorlY",
        "outputId": "0597c516-d621-47a5-efa2-50aff2541afc"
      },
      "source": [
        "dif_y_estim = []\n",
        "for i in np.arange(11):\n",
        "  c = y[i] - y_estim[i]\n",
        "  dif_y_estim.append(c)\n",
        "dif_y_estim = np.array(dif_y_estim) \n",
        "\n",
        "dif_y_estim_sqr = []\n",
        "for i in np.arange(11):\n",
        "  c = (y[i] - y_estim[i]) ** 2\n",
        "  dif_y_estim_sqr.append(c)\n",
        "dif_y_estim_sqr = np.array(dif_y_estim_sqr) \n",
        "\n",
        "dif_y_estim_sum = dif_y_estim.sum()\n",
        "dif_y_estim_sqr_sum = dif_y_estim_sqr.sum()\n",
        "\n",
        "print(f'Значения yi - yi_estim: {dif_y_estim}')\n",
        "print(f'Значения (yi - yi_estim)^2: {dif_y_estim_sqr}')\n",
        "print(f'Сумма значений yi - yi_estim: {dif_y_estim_sum}')\n",
        "print(f'Сумма значений (yi - yi_estim)^2: {dif_y_estim_sqr_sum}')"
      ],
      "execution_count": null,
      "outputs": [
        {
          "output_type": "stream",
          "text": [
            "Значения yi - yi_estim: [ 2.90070632 -0.72106413 -1.80283457 -2.65401487 10.72362454 -3.80696561\n",
            " -1.86047398 -3.68519517  2.32011617 -1.07224442 -0.34165428]\n",
            "Значения (yi - yi_estim)^2: [  8.41409715   0.51993347   3.2502125    7.04379493 114.99612317\n",
            "  14.49298718   3.46136342  13.58066342   5.38293905   1.1497081\n",
            "   0.11672764]\n",
            "Сумма значений yi - yi_estim: -7.105427357601002e-15\n",
            "Сумма значений (yi - yi_estim)^2: 172.40855004646843\n"
          ],
          "name": "stdout"
        }
      ]
    },
    {
      "cell_type": "code",
      "metadata": {
        "colab": {
          "base_uri": "https://localhost:8080/"
        },
        "id": "mekfeUdBwvB5",
        "outputId": "10eb3524-e033-42b6-aed1-f9a908545df5"
      },
      "source": [
        "D_estim = dif_y_estim_sqr_sum / 11\n",
        "D_a = D_estim / 11 # Получение оценки дисперсии параметра a\n",
        "D_b = D_estim / sum_dif_x_sqr # Получение оценки дисперсии параметра b\n",
        "D_y = []\n",
        "for i in range(n):\n",
        "  D_yi = D_estim * ((1 / n) + ((x[i] - x_mean) ** 2) / sum_dif_x_sqr)\n",
        "  D_y.append(D_yi)\n",
        "D_y = np.array(D_y)\n",
        "print(f'Оценка дисперсии D: {D_estim}')\n",
        "print(f'Дисперсия оценки D(a): {D_a}')\n",
        "print(f'Дисперсия оценки D(b): {D_b}')\n",
        "print(f'Дисперсия D(y) в точке x: {D_y}')"
      ],
      "execution_count": null,
      "outputs": [
        {
          "output_type": "stream",
          "text": [
            "Оценка дисперсии D: 15.673504549678949\n",
            "Дисперсия оценки D(a): 1.4248640499708136\n",
            "Дисперсия оценки D(b): 0.08011549723348904\n",
            "Дисперсия D(y) в точке x: [4.13687295 2.06115325 1.4275125  1.8062403  4.48646785 5.55710222\n",
            " 2.59282882 2.82589208 3.28473539 1.47849509 1.68970867]\n"
          ],
          "name": "stdout"
        }
      ]
    },
    {
      "cell_type": "markdown",
      "metadata": {
        "id": "DhK4csyzFXjQ"
      },
      "source": [
        "![image.png](data:image/png;base64,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)"
      ]
    },
    {
      "cell_type": "code",
      "metadata": {
        "colab": {
          "base_uri": "https://localhost:8080/"
        },
        "id": "FyHf9w_w4i9c",
        "outputId": "b46941e3-53e3-40e7-a6d6-1e3417b3e5c3"
      },
      "source": [
        "t = 2.2622 # По таблице распределения Сьюдента для n = 9\n",
        "\n",
        "E_a = t * math.sqrt(D_estim / 9) # Численное значение интервала для параметра a\n",
        "upper_bound_a = a_estim + E_a # нижняя граница\n",
        "lower_bound_a = a_estim - E_a # верхняя граница\n",
        "\n",
        "E_b =  t * math.sqrt((11 / 9) * (D_estim / sum_dif_x_sqr))\n",
        "upper_bound_b = b_estim + E_b\n",
        "lower_bound_b = b_estim - E_b\n",
        "\n",
        "E_y = []\n",
        "for i in range(n):\n",
        "  E_yi = t * math.sqrt(D_estim / (n - 2)) * math.sqrt(1 + n * (x[i] - x_mean) / sum_dif_x_sqr)\n",
        "  E_y.append(E_yi)\n",
        "\n",
        "E_y = np.array(E_y)\n",
        "\n",
        "upper_bound_y = []\n",
        "lower_bound_y = []\n",
        "for i in range(n):\n",
        "  up = y_estim[i] + E_y[i]\n",
        "  lb = y_estim[i] - E_y[i]\n",
        "  upper_bound_y.append(up)\n",
        "  lower_bound_y.append(lb)\n",
        "\n",
        "upper_bound_y = np.array(upper_bound_y)\n",
        "lower_bound_y = np.array(lower_bound_y)\n",
        "\n",
        "print(f'Доверительный интервал для a: {lower_bound_a, upper_bound_a}')\n",
        "print(f'Доверительный интервал для b: {lower_bound_b, upper_bound_b}')\n",
        "print(f'Отклонение для значения y: {E_y}')\n",
        "print(f'Нижнии границы оценки y: {lower_bound_y}')\n",
        "print(f'Верхнии границы оценки y: {upper_bound_y}')"
      ],
      "execution_count": null,
      "outputs": [
        {
          "output_type": "stream",
          "text": [
            "Доверительный интервал для a: (5.947394143597009, 11.918060401857538)\n",
            "Доверительный интервал для b: (-1.1472975283034546, 0.2684778257012243)\n",
            "Отклонение для значения y: [2.44881484 2.73861443 3.00055393 3.16315251 3.46553801 3.53709749\n",
            " 2.64554418 3.317792   2.54907808 2.91585646 2.82862404]\n",
            "Нижнии границы оценки y: [9.04047884 7.4324497  5.85228064 4.81086236 2.75083746 2.23986813\n",
            " 7.96492979 3.77740317 8.50080575 6.37638796 6.90303024]\n",
            "Верхнии границы оценки y: [13.93810852 12.90967856 11.8533885  11.13716738  9.68191347  9.3140631\n",
            " 13.25601816 10.41298716 13.59896191 12.20810089 12.56027831]\n"
          ],
          "name": "stdout"
        }
      ]
    },
    {
      "cell_type": "markdown",
      "metadata": {
        "id": "v5KERmOjNoRg"
      },
      "source": [
        "![image.png](data:image/png;base64,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)"
      ]
    },
    {
      "cell_type": "code",
      "metadata": {
        "colab": {
          "base_uri": "https://localhost:8080/",
          "height": 296
        },
        "id": "arhGq-ARNw79",
        "outputId": "c521ee84-fbf1-4a9a-ca28-620127b906c9"
      },
      "source": [
        "plt.plot(x, y_estim)\n",
        "plt.plot(x, lower_bound_y, color='black')\n",
        "plt.plot(x, upper_bound_y, color='black')\n",
        "plt.scatter(x, y)\n",
        "plt.xlabel('X')\n",
        "plt.ylabel('Y')"
      ],
      "execution_count": null,
      "outputs": [
        {
          "output_type": "execute_result",
          "data": {
            "text/plain": [
              "Text(0, 0.5, 'Y')"
            ]
          },
          "metadata": {
            "tags": []
          },
          "execution_count": 12
        },
        {
          "output_type": "display_data",
          "data": {
            "image/png": "[encoded data removed]",
            "text/plain": [
              "<Figure size 432x288 with 1 Axes>"
            ]
          },
          "metadata": {
            "tags": [],
            "needs_background": "light"
          }
        }
      ]
    },
    {
      "cell_type": "markdown",
      "metadata": {
        "id": "i2Wf-3I-0_Rc"
      },
      "source": [
        "## Проверка адекватности линейной регрессии "
      ]
    },
    {
      "cell_type": "code",
      "metadata": {
        "colab": {
          "base_uri": "https://localhost:8080/"
        },
        "id": "pJQq3heMzsz9",
        "outputId": "2e209347-c02a-4f9f-b01f-0470954b30a3"
      },
      "source": [
        "print(f'Сумма (xi - x_mean)^2: {sum_dif_x_sqr}')\n",
        "print(f'Сумма значений (yi - yi_estim)^2: {dif_y_estim_sqr_sum}')\n",
        "print(f'Оценка параметра b: {b_estim}')\n",
        "\n",
        "F = 3.36030 # из таблицы критическое значение F - распределения\n",
        "D = dif_y_estim_sqr_sum / (n - 2) # несмещенная оценка дисперсии ошибок наблюдений\n",
        "z = b_estim ** 2 * sum_dif_x_sqr / D\n",
        "print(f'Несмещенная оценка дисперсии оишбок наблюдений: {D}')\n",
        "print(f'Критическое значение статистики: {F}')\n",
        "print(f'Полученное значение статистики: {z}')\n",
        "print(f'Гипотеза H0 принимается для заданного уровня a')"
      ],
      "execution_count": null,
      "outputs": [
        {
          "output_type": "stream",
          "text": [
            "Сумма (xi - x_mean)^2: 195.63636363636365\n",
            "Сумма значений (yi - yi_estim)^2: 172.40855004646843\n",
            "Оценка параметра b: -0.43940985130111515\n",
            "Несмещенная оценка дисперсии оишбок наблюдений: 19.156505560718713\n",
            "Критическое значение статистики: 3.3603\n",
            "Полученное значение статистики: 1.9718454399536411\n",
            "Гипотеза H0 принимается для заданного уровня a\n"
          ],
          "name": "stdout"
        }
      ]
    },
    {
      "cell_type": "markdown",
      "metadata": {
        "id": "YlAi2Zfn1U0Y"
      },
      "source": [
        "Расчёт среднеквадратичной ошибки:"
      ]
    },
    {
      "cell_type": "code",
      "metadata": {
        "colab": {
          "base_uri": "https://localhost:8080/"
        },
        "id": "7M8boxOFWRc8",
        "outputId": "55fdf236-b4b9-4d50-9266-15dce66b5bb2"
      },
      "source": [
        "n = 11\n",
        "dif_y_estim_sqr = np.array(dif_y_estim_sqr)\n",
        "sum = dif_y_estim_sqr.sum()\n",
        "MSE = sum / n\n",
        "MSE"
      ],
      "execution_count": null,
      "outputs": [
        {
          "output_type": "execute_result",
          "data": {
            "text/plain": [
              "15.673504549678949"
            ]
          },
          "metadata": {
            "tags": []
          },
          "execution_count": 14
        }
      ]
    },
    {
      "cell_type": "markdown",
      "metadata": {
        "id": "QDKa4MkDW-Lr"
      },
      "source": [
        "Расчёт средней абсолютной ошибки:"
      ]
    },
    {
      "cell_type": "code",
      "metadata": {
        "colab": {
          "base_uri": "https://localhost:8080/"
        },
        "id": "_N72nYGlWVfW",
        "outputId": "5a144fe7-78b8-41fb-bef1-087c3ce10e79"
      },
      "source": [
        "dif_y_estim = []\n",
        "for i in np.arange(11):\n",
        "  c = abs(y[i] - y_estim[i])\n",
        "  dif_y_estim.append(c)\n",
        "\n",
        "dif_y_estim = np.array(dif_y_estim)\n",
        "sum = dif_y_estim.sum()\n",
        "MAE = sum / n\n",
        "MAE"
      ],
      "execution_count": null,
      "outputs": [
        {
          "output_type": "execute_result",
          "data": {
            "text/plain": [
              "2.898990368367692"
            ]
          },
          "metadata": {
            "tags": []
          },
          "execution_count": 15
        }
      ]
    }
  ]
}