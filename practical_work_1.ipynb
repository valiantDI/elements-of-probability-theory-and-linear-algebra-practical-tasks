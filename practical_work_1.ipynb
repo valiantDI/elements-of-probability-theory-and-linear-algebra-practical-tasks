{
  "nbformat": 4,
  "nbformat_minor": 0,
  "metadata": {
    "colab": {
      "name": "practical_work_1.ipynb",
      "provenance": [],
      "collapsed_sections": []
    },
    "kernelspec": {
      "name": "python3",
      "display_name": "Python 3"
    }
  },
  "cells": [
    {
      "cell_type": "markdown",
      "metadata": {
        "id": "S7nURqUtfIve"
      },
      "source": [
        "По распределению Вейбулла, соответствующему варианту задания, смоделировать  выборку  псевдослучайных  чисел объемом 100 единиц. Задать все необходимые параметры распределения; построить графики функции плотности вероятности, функции распределения, функции значений процентилей, вычислить числовые характеристики выборки и построить ее гистограмму. Получить точечные и интервальные оценки (b=0.95) математического ожидания и дисперсии."
      ]
    },
    {
      "cell_type": "markdown",
      "metadata": {
        "id": "NNVCrXPsfhrb"
      },
      "source": [
        "![image.png](data:image/png;base64,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)"
      ]
    },
    {
      "cell_type": "markdown",
      "metadata": {
        "id": "SV_OyWDCmAf7"
      },
      "source": [
        "![image.png](data:image/png;base64,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)"
      ]
    },
    {
      "cell_type": "markdown",
      "metadata": {
        "id": "AIFLGf4ZJy_Z"
      },
      "source": [
        "Генерация выборки распределения Вейбулла:"
      ]
    },
    {
      "cell_type": "code",
      "metadata": {
        "colab": {
          "base_uri": "https://localhost:8080/"
        },
        "id": "u_z8xSFn8YjU",
        "outputId": "79987958-4f04-4592-cd86-ff497610cb06"
      },
      "source": [
        "import math\n",
        "import numpy as np\n",
        "import pandas as pd\n",
        "\n",
        "\n",
        "def weibullian(alpha, lambda_, n=100):\n",
        "\n",
        "  sample = []\n",
        "  ri = np.random.sample(n)\n",
        "\n",
        "  for i in range(n):\n",
        "    xi = ((-1 / lambda_) * math.log(ri[i])) ** (1 / alpha)\n",
        "    sample.append(xi)\n",
        "\n",
        "  sample = np.array(sample)\n",
        "\n",
        "  return sample\n",
        "\n",
        "weibullian(2, 1)\n"
      ],
      "execution_count": null,
      "outputs": [
        {
          "output_type": "execute_result",
          "data": {
            "text/plain": [
              "array([1.58041418, 1.16489118, 0.72275375, 0.98902383, 1.01859876,\n",
              "       1.04392134, 0.8587969 , 1.19663539, 0.11009802, 0.19535696,\n",
              "       1.17963912, 1.01487409, 1.5478213 , 0.79606642, 0.29384251,\n",
              "       0.17076133, 0.5877512 , 0.35913676, 0.52537312, 0.62474651,\n",
              "       1.26744509, 0.56156288, 0.84666091, 0.48740337, 1.22076412,\n",
              "       1.00512089, 1.15740526, 1.68612203, 1.27338051, 1.25426491,\n",
              "       0.60283763, 0.67965836, 1.29754163, 0.38801027, 0.53833639,\n",
              "       0.41717202, 0.50872808, 0.70833261, 0.47531211, 0.17904636,\n",
              "       0.76538251, 0.89609579, 1.45031078, 0.43256112, 1.29943994,\n",
              "       1.08707911, 1.09373674, 0.80544505, 0.68764172, 1.26826506,\n",
              "       0.16853363, 0.62187951, 1.3807379 , 0.81930851, 0.19930167,\n",
              "       0.85945232, 1.29532752, 0.35343956, 0.40072498, 0.60309589,\n",
              "       0.86172073, 1.56444148, 0.91001444, 1.01424743, 2.05307622,\n",
              "       1.10568386, 0.503522  , 0.49044967, 0.89867554, 0.9443546 ,\n",
              "       0.89540014, 0.59145394, 0.62805983, 0.87479326, 0.96014644,\n",
              "       0.64753525, 0.84132784, 0.64954513, 1.04629967, 0.52799494,\n",
              "       0.47343725, 1.97817434, 0.28884964, 0.20275048, 1.87706393,\n",
              "       0.17718881, 0.79673246, 0.03269073, 0.88411795, 0.4000711 ,\n",
              "       1.04659712, 1.17415739, 1.15891865, 1.59688429, 1.40044516,\n",
              "       0.96700213, 0.4477584 , 1.02918286, 0.67152573, 0.37529173])"
            ]
          },
          "metadata": {
            "tags": []
          },
          "execution_count": 2
        }
      ]
    },
    {
      "cell_type": "markdown",
      "metadata": {
        "id": "eKZmgZpSoEmP"
      },
      "source": [
        "Вычисление числовых характеристик выборки из распределения Вейбулла со следующими параметрами $\\alpha$ = 0.5 и $\\lambda$ = 1 :"
      ]
    },
    {
      "cell_type": "code",
      "metadata": {
        "colab": {
          "base_uri": "https://localhost:8080/"
        },
        "id": "ULYs6fwmoD0B",
        "outputId": "20515287-c5f6-4a0b-adb8-1d51796d1e34"
      },
      "source": [
        "alpha, lambda_ = 0.5, 1\n",
        "EX = lambda_ * math.factorial((1 + 1 / alpha) - 1) \n",
        "x_ = lambda_ * math.log(2) ** (1 / alpha) \n",
        "DX = (lambda_ ** 2) * (math.factorial((1 + 2 / alpha) - 1) - math.factorial((1 + 1 / alpha) - 1) ** 2) \n",
        "sigma_x = lambda_ * math.sqrt(math.factorial((1 + 2 / alpha) - 1) - math.factorial((1 + 1 / alpha) - 1) ** 2) \n",
        "vx = math.sqrt((math.factorial(1 + 2 / alpha) / (math.factorial(1 + 1 / alpha)) ** 2) -1) \n",
        "Sk = (math.factorial((1 + 3 / alpha) - 1) - 3 * math.factorial((1 + 2 / alpha) - 1) * math.factorial((1 + 1 / alpha) - 1) + 2 * (math.factorial((1 + 1 / alpha) - 1) ** 3)) /(\n",
        "    math.factorial((1 + 2 / alpha) - 1) - (math.factorial((1 + 1 / alpha) - 1) ** 2) ** (3 / 2)) \n",
        "Ex = ((math.factorial((1 + 4 / alpha) - 1) - 4 * math.factorial((1 + 3 / alpha) - 1) * math.factorial((1 + 1 / alpha) - 1) + 6 * math.factorial((1 + 2 / alpha) - 1) * (\n",
        "       math.factorial((1 + 1 / alpha) - 1) ** 2) - 3 * (math.factorial((1 + 1 / alpha) - 1) ** 4)) / (math.factorial((1 + 2 / alpha) - 1) - (\n",
        "       math.factorial((1 + 1 / alpha) - 1) ** 2)) ** 2) - 3 \n",
        "m2 = lambda_ ** 2 * math.factorial((1 + 2 / alpha) - 1) \n",
        "m3 = lambda_ ** 3 * math.factorial((1 + 3 / alpha) - 1) \n",
        "m4 = lambda_ ** 4 * math.factorial((1 + 4 / alpha) - 1) \n",
        "mu3 = lambda_ ** 3 * (math.factorial((1 + 3 / alpha) - 1) - 3 * math.factorial((1 + 2 / alpha) - 1) * math.factorial((1 + 1 / alpha) - 1) + 2 * (math.factorial((1 + 1 / alpha) - 1) ** 3))\n",
        "mu4 = lambda_ ** 4 * (math.factorial((1 + 4 / alpha) - 1) - 4 * math.factorial((1 + 3 / alpha) - 1) * math.factorial((1 + 1 / alpha) - 1) + 6 * math.factorial((1 + 2 / alpha) - 1) * (\n",
        "    math.factorial((1 + 1 / alpha) - 1) ** 2) - 3 * (math.factorial((1 + 1 / alpha) - 1) ** 4)) \n",
        "low_xp = lambda_ * (-math.log(1 - 0.25)) ** (1/alpha) \n",
        "up_xp = lambda_ * (-math.log(1 - 0.75)) ** (1/alpha) \n",
        "\n",
        "\n",
        "print(f'Математическое ожидание: {EX}')\n",
        "print(f'Медиана: {x_}')\n",
        "print(f'Дисперсия: {DX}')\n",
        "print(f'Стандартное отклонение: {sigma_x}')\n",
        "print(f'Коэффициент вариации: {vx}')\n",
        "print(f'Коэффициент асимметрии: {Sk}')\n",
        "print(f'Коэффициент эксцесса: {Ex}')\n",
        "print(f'Второй начальный момент: {m2}')\n",
        "print(f'Третий начальный момент: {m3}')\n",
        "print(f'Четвёртый начальный момент: {m4}')\n",
        "print(f'Третий центральный момент: {mu3}')\n",
        "print(f'Четвёртый центральный момент: {mu4}')\n",
        "print(f'Квантиль уровня 0.25: {low_xp}')\n",
        "print(f'Квантиль уровня 0.75: {up_xp}')\n"
      ],
      "execution_count": null,
      "outputs": [
        {
          "output_type": "stream",
          "text": [
            "Математическое ожидание: 2\n",
            "Медиана: 0.4804530139182014\n",
            "Дисперсия: 20\n",
            "Стандартное отклонение: 4.47213595499958\n",
            "Коэффициент вариации: 1.5275252316519468\n",
            "Коэффициент асимметрии: 37.0\n",
            "Коэффициент эксцесса: 84.72\n",
            "Второй начальный момент: 24\n",
            "Третий начальный момент: 720\n",
            "Четвёртый начальный момент: 40320\n",
            "Третий центральный момент: 592\n",
            "Четвёртый центральный момент: 35088\n",
            "Квантиль уровня 0.25: 0.08276097481015171\n",
            "Квантиль уровня 0.75: 1.9218120556728056\n"
          ],
          "name": "stdout"
        }
      ]
    },
    {
      "cell_type": "markdown",
      "metadata": {
        "id": "WVWvydUNJguC"
      },
      "source": [
        "Вычисление числовых характеристик выборки из распределения Вейбулла со следующими параметрами $\\alpha$ = 1 и $\\lambda$ = 1 :"
      ]
    },
    {
      "cell_type": "code",
      "metadata": {
        "colab": {
          "base_uri": "https://localhost:8080/"
        },
        "id": "X009w6CRJfz4",
        "outputId": "cc7a453e-c51e-4cd5-987d-ffe0d3a71298"
      },
      "source": [
        "alpha, lambda_ = 1, 1\n",
        "EX = lambda_ * math.factorial((1 + 1 / alpha) - 1) # мат. ожидание\n",
        "x_ = lambda_ * math.log(2) ** (1 / alpha) # медиана\n",
        "DX = (lambda_ ** 2) * (math.factorial((1 + 2 / alpha) - 1) - math.factorial((1 + 1 / alpha) - 1) ** 2) # дисперсия\n",
        "sigma_x = lambda_ * math.sqrt(math.factorial((1 + 2 / alpha) - 1) - math.factorial((1 + 1 / alpha) - 1) ** 2) # стандартное отклонение\n",
        "vx = math.sqrt((math.factorial(1 + 2 / alpha) / (math.factorial(1 + 1 / alpha)) ** 2) -1) # коэф. вариации\n",
        "Sk = (math.factorial((1 + 3 / alpha) - 1) - 3 * math.factorial((1 + 2 / alpha) - 1) * math.factorial((1 + 1 / alpha) - 1) + 2 * (math.factorial((1 + 1 / alpha) - 1) ** 3)) /(\n",
        "    math.factorial((1 + 2 / alpha) - 1) - (math.factorial((1 + 1 / alpha) - 1) ** 2) ** (3 / 2)) # коэф. асимметрии\n",
        "Ex = ((math.factorial((1 + 4 / alpha) - 1) - 4 * math.factorial((1 + 3 / alpha) - 1) * math.factorial((1 + 1 / alpha) - 1) + 6 * math.factorial((1 + 2 / alpha) - 1) * (math.factorial((1 + 1 / alpha) - 1) ** 2) - 3 * (\n",
        "    math.factorial((1 + 1 / alpha) - 1) ** 4)) / (math.factorial((1 + 2 / alpha) - 1) - (math.factorial((1 + 1 / alpha) - 1) ** 2)) ** 2) - 3 # коэф. эксцесса\n",
        "m2 = lambda_ ** 2 * math.factorial((1 + 2 / alpha) - 1) # нач. момент \n",
        "m3 = lambda_ ** 3 * math.factorial((1 + 3 / alpha) - 1) # нач. момент\n",
        "m4 = lambda_ ** 4 * math.factorial((1 + 4 / alpha) - 1) # нач. момент\n",
        "# ms = lambda_ ** Sk * math.factorial((1 + Sk / alpha) - 1) # Что такое s ??\n",
        "mu3 = lambda_ ** 3 * (math.factorial((1 + 3 / alpha) - 1) - 3 * math.factorial((1 + 2 / alpha) - 1) * math.factorial((1 + 1 / alpha) - 1) + 2 * (math.factorial((1 + 1 / alpha) - 1) ** 3)) # центральный момент\n",
        "mu4 = lambda_ ** 4 * (math.factorial((1 + 4 / alpha) - 1) - 4 * math.factorial((1 + 3 / alpha) - 1) * math.factorial((1 + 1 / alpha) - 1) + 6 * math.factorial((1 + 2 / alpha) - 1) * (\n",
        "    math.factorial((1 + 1 / alpha) - 1) ** 2) - 3 * (math.factorial((1 + 1 / alpha) - 1) ** 4)) # центральный момент  \n",
        "low_xp = lambda_ * (-math.log(1 - 0.25)) ** (1/alpha) # квантиль 0.25\n",
        "up_xp = lambda_ * (-math.log(1 - 0.75)) ** (1/alpha) # квантиль 0.75\n",
        "\n",
        "print(f'Математическое ожидание: {EX}')\n",
        "print(f'Медиана: {x_}')\n",
        "print(f'Дисперсия: {DX}')\n",
        "print(f'Стандартное отклонение: {sigma_x}')\n",
        "print(f'Коэффициент вариации: {vx}')\n",
        "print(f'Коэффициент асимметрии: {Sk}')\n",
        "print(f'Коэффициент эксцесса: {Ex}')\n",
        "print(f'Второй начальный момент: {m2}')\n",
        "print(f'Третий начальный момент: {m3}')\n",
        "print(f'Четвёртый начальный момент: {m4}')\n",
        "print(f'Третий центральный момент: {mu3}')\n",
        "print(f'Четвёртый центральный момент: {mu4}')\n",
        "print(f'Квантиль уровня 0.25: {low_xp}')\n",
        "print(f'Квантиль уровня 0.75: {up_xp}')"
      ],
      "execution_count": null,
      "outputs": [
        {
          "output_type": "stream",
          "text": [
            "Математическое ожидание: 1\n",
            "Медиана: 0.6931471805599453\n",
            "Дисперсия: 1\n",
            "Стандартное отклонение: 1.0\n",
            "Коэффициент вариации: 0.7071067811865476\n",
            "Коэффициент асимметрии: 2.0\n",
            "Коэффициент эксцесса: 6.0\n",
            "Второй начальный момент: 2\n",
            "Третий начальный момент: 6\n",
            "Четвёртый начальный момент: 24\n",
            "Третий центральный момент: 2\n",
            "Четвёртый центральный момент: 9\n",
            "Квантиль уровня 0.25: 0.2876820724517809\n",
            "Квантиль уровня 0.75: 1.3862943611198906\n"
          ],
          "name": "stdout"
        }
      ]
    },
    {
      "cell_type": "markdown",
      "metadata": {
        "id": "H1j6bTnRKQYo"
      },
      "source": [
        "Вычисление числовых характеристик выборки из распределения Вейбулла со следующими параметрами $\\alpha$ = 2 и $\\lambda$ = 1 :"
      ]
    },
    {
      "cell_type": "code",
      "metadata": {
        "colab": {
          "base_uri": "https://localhost:8080/"
        },
        "id": "lbE5FR8kKQnJ",
        "outputId": "06bac618-7ca5-4b66-d105-a8e4af14961a"
      },
      "source": [
        "def gamma_func(n, alpha):\n",
        "  if 1 + n / alpha == 2:\n",
        "    return math.factorial((1 + n / alpha) - 1)\n",
        "  elif 1 + n / alpha == 3:\n",
        "    return math.factorial((1 + n / alpha) - 1)  \n",
        "  elif 1 + n / alpha == 3 / 2:\n",
        "    return 1 / 2 * math.sqrt(math.pi)\n",
        "  elif 1 + n / alpha == 5 / 2:\n",
        "    return 3 / 4 * math.sqrt(math.pi)\n",
        "  elif 1 + n / alpha == 7 / 2:\n",
        "    return 15 / 8 * math.sqrt(math.pi)  \n",
        "\n",
        "alpha, lambda_ = 2, 1\n",
        "EX = lambda_ * gamma_func(1, alpha) \n",
        "x_ = lambda_ * math.log(2) ** (1 / alpha) \n",
        "x = (lambda_ * (alpha - 1) ** (1 / alpha)) / alpha ** (1 / alpha) \n",
        "DX = (lambda_ ** 2) * gamma_func(2, alpha) - gamma_func(1, alpha) ** 2 \n",
        "sigma_x = lambda_ * math.sqrt(gamma_func(2, alpha) - gamma_func(1, alpha) ** 2) \n",
        "vx = math.sqrt((gamma_func(2, alpha) / gamma_func(1, alpha) ** 2) - 1) \n",
        "Sk = (gamma_func(3, alpha) - 3 * gamma_func(2, alpha) * gamma_func(1, alpha) + 2 * gamma_func(1, alpha) ** 3) / (\n",
        "    gamma_func(2, alpha) - gamma_func(1, alpha) ** 2) ** 3/2 \n",
        "Ex = (gamma_func(4, alpha) - 4 * gamma_func(3, alpha) * gamma_func(1, alpha) + 6 * gamma_func(2, alpha) * gamma_func(\n",
        "    1, alpha) ** 2 - 3 * gamma_func(1, alpha) ** 4) / (gamma_func(2, alpha) - gamma_func(1, alpha)) ** 2 \n",
        "m2 = lambda_ ** 2 * gamma_func(2, alpha) \n",
        "m3 = lambda_ ** 3 *gamma_func(3, alpha) \n",
        "m4 = lambda_ ** 4 * gamma_func(4, alpha)  \n",
        "mu3 = lambda_ ** 3 * gamma_func(3, alpha) - 3 * gamma_func(2, alpha) * gamma_func(1, alpha) + 2 * (gamma_func(1, alpha)) ** 3 \n",
        "mu4 = lambda_ ** 4 * (gamma_func(4, alpha) - 4 * gamma_func(3, alpha) * gamma_func(1, alpha) + 6 * gamma_func(2, alpha) * gamma_func(\n",
        "    1, alpha) ** 2 - 3 * gamma_func(1, alpha) ** 4) \n",
        "low_xp = lambda_ * (-math.log(1 - 0.25)) ** (1/alpha) \n",
        "up_xp = lambda_ * (-math.log(1 - 0.75)) ** (1/alpha) \n",
        "\n",
        "print(f'Математическое ожидание: {EX}')\n",
        "print(f'Медиана: {x_}')\n",
        "print(f'Мода: {x}')\n",
        "print(f'Дисперсия: {DX}')\n",
        "print(f'Стандартное отклонение: {sigma_x}')\n",
        "print(f'Коэффициент вариации: {vx}')\n",
        "print(f'Коэффициент асимметрии: {Sk}')\n",
        "print(f'Коэффициент эксцесса: {Ex}')\n",
        "print(f'Второй начальный момент: {m2}')\n",
        "print(f'Третий начальный момент: {m3}')\n",
        "print(f'Четвёртый начальный момент: {m4}')\n",
        "print(f'Третий центральный момент: {mu3}')\n",
        "print(f'Четвёртый центральный момент: {mu4}')\n",
        "print(f'Квантиль уровня 0.25: {low_xp}')\n",
        "print(f'Квантиль уровня 0.75: {up_xp}')"
      ],
      "execution_count": null,
      "outputs": [
        {
          "output_type": "stream",
          "text": [
            "Математическое ожидание: 0.8862269254527579\n",
            "Медиана: 0.8325546111576977\n",
            "Мода: 0.7071067811865475\n",
            "Дисперсия: 0.21460183660255183\n",
            "Стандартное отклонение: 0.4632513751761044\n",
            "Коэффициент вариации: 0.5227232008770636\n",
            "Коэффициент асимметрии: 3.174134803694168\n",
            "Коэффициент эксцесса: 11.545547505044455\n",
            "Второй начальный момент: 1\n",
            "Третий начальный момент: 1.329340388179137\n",
            "Четвёртый начальный момент: 2\n",
            "Третий центральный момент: 0.0627416110287895\n",
            "Четвёртый центральный момент: 0.1494491747957447\n",
            "Квантиль уровня 0.25: 0.5363600213026516\n",
            "Квантиль уровня 0.75: 1.1774100225154747\n"
          ],
          "name": "stdout"
        }
      ]
    },
    {
      "cell_type": "markdown",
      "metadata": {
        "id": "ZtjFHFqhLiBk"
      },
      "source": [
        "Мода: ![image.png](data:image/png;base64,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)"
      ]
    },
    {
      "cell_type": "markdown",
      "metadata": {
        "id": "sLxEU9IYfoXE"
      },
      "source": [
        "Построение графика фунции плотности вероятности: ![image.png](data:image/png;base64,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)"
      ]
    },
    {
      "cell_type": "code",
      "metadata": {
        "id": "E9OZVJwOfotB"
      },
      "source": [
        "import matplotlib.pyplot as plt\n",
        "\n",
        "def weibulla_pdf(alpha, lambda_):\n",
        "  sample = weibullian(alpha, lambda_)\n",
        "  variation_range = sorted(sample)\n",
        "\n",
        "  fXx = []\n",
        "  for i in range(len(variation_range)):\n",
        "    xi = variation_range[i]\n",
        "    fXxi = (alpha / lambda_) * ((xi / lambda_) ** (alpha - 1)) * math.exp(-(xi / lambda_ ) ** alpha)\n",
        "    fXx.append(fXxi)\n",
        "  \n",
        "  fXx = np.array(fXx)    \n",
        "  return plt.plot(variation_range, fXx)"
      ],
      "execution_count": null,
      "outputs": []
    },
    {
      "cell_type": "code",
      "metadata": {
        "colab": {
          "base_uri": "https://localhost:8080/",
          "height": 286
        },
        "id": "hOo34BYG4n7D",
        "outputId": "c13376fb-9df6-4be3-bb31-83232b9d1414"
      },
      "source": [
        "plt.xlim(None, 2.5)\n",
        "plt.ylim(None, 2.5)\n",
        "weibulla_pdf(0.5, 1) "
      ],
      "execution_count": null,
      "outputs": [
        {
          "output_type": "execute_result",
          "data": {
            "text/plain": [
              "[<matplotlib.lines.Line2D at 0x7f288b7c46a0>]"
            ]
          },
          "metadata": {
            "tags": []
          },
          "execution_count": 7
        },
        {
          "output_type": "display_data",
          "data": {
            "image/png": "[encoded data removed]",
            "text/plain": [
              "<Figure size 432x288 with 1 Axes>"
            ]
          },
          "metadata": {
            "tags": [],
            "needs_background": "light"
          }
        }
      ]
    },
    {
      "cell_type": "code",
      "metadata": {
        "colab": {
          "base_uri": "https://localhost:8080/",
          "height": 282
        },
        "id": "2jwWixFo4gAt",
        "outputId": "e3ee4c95-c17b-4e54-b40f-425ac5ea9cd9"
      },
      "source": [
        "weibulla_pdf(1, 1)"
      ],
      "execution_count": null,
      "outputs": [
        {
          "output_type": "execute_result",
          "data": {
            "text/plain": [
              "[<matplotlib.lines.Line2D at 0x7f288b755c18>]"
            ]
          },
          "metadata": {
            "tags": []
          },
          "execution_count": 8
        },
        {
          "output_type": "display_data",
          "data": {
            "image/png": "[encoded data removed]",
            "text/plain": [
              "<Figure size 432x288 with 1 Axes>"
            ]
          },
          "metadata": {
            "tags": [],
            "needs_background": "light"
          }
        }
      ]
    },
    {
      "cell_type": "code",
      "metadata": {
        "colab": {
          "base_uri": "https://localhost:8080/",
          "height": 282
        },
        "id": "40LcMhHq4gR2",
        "outputId": "dcb2aa12-2cd5-403f-b9f4-e7c72e5810e9"
      },
      "source": [
        "weibulla_pdf(2, 1)"
      ],
      "execution_count": null,
      "outputs": [
        {
          "output_type": "execute_result",
          "data": {
            "text/plain": [
              "[<matplotlib.lines.Line2D at 0x7f288b222cf8>]"
            ]
          },
          "metadata": {
            "tags": []
          },
          "execution_count": 9
        },
        {
          "output_type": "display_data",
          "data": {
            "image/png": "[encoded data removed]",
            "text/plain": [
              "<Figure size 432x288 with 1 Axes>"
            ]
          },
          "metadata": {
            "tags": [],
            "needs_background": "light"
          }
        }
      ]
    },
    {
      "cell_type": "markdown",
      "metadata": {
        "id": "NqWrpvlmkxsM"
      },
      "source": [
        "Построение функции распределения:![image.png](data:image/png;base64,iVBORw0KGgoAAAANSUhEUgAAAJsAAAAnCAYAAAAYaTqCAAAEQElEQVR4Ae2YgY0CIRBFbcEargV7sARruBbswA7swAqswAZswA7sYS/P5CeTcdkFRPa8G5KNCwwDfB4D62qIFAp0UmDVqZ/oJhQYAraAoJsCAVs3qaOjgC0Y6KZAwNZN6ugoYAsGuikQsHWTOjoK2IKBlxU4HA7DarUattvtwxfvl8vlyW/A9iRJFJQoAGg8JH6/v7+H0+k06iJgG5Xl/xTe7/cHILvdbrjdbkUTx17RjIZAZvPeWcDmFflneaLR+XwegE0RKlcC4LJR7OvraxLY7rBxlkO/HeTc5I7H40OMsXvAXNuoz1MA4Ephw17ryJpyhJJS0a0KNkIvl8CpZwwMBrPZbIbr9ZqngLHCH233+70pXeaV+SN0StRlRvVar+jqYQNA5qi1VF7rR7kYUJQjnzqOq2BjWnSMYz9A8pT7RDlhloWqTbRdr9cDkW6pRN+MgTn+FdjG1hKtAZBHwBEsXpnzMxWZq6gB8msTtPsBQTqL421tu9x3dhC+Ursn10+NHcILdKKsn2eNz3e0ESCMzz/U2YSO2sA+cGCntVO7V3Svhk0RLCdSsSOIaq0S4mjyrXyW+tEilrbrYc8xx6Yfe3QEahxsGtYS2ynYqH81VcOG2LkAAYcuj37AwEod0YovIiWiYKoddrl9y1/r3yVhI7qgGfqgG8DURBx80JYETGxg1oOHE0Rrg96q87CW6FoNG5O0AOmL0XfO4LAd2zXY0o6J6njEnocJMtmxVBJVx9q3KFsKNm1Cu/hT+qbmavXGhjUAXualNRPEqlM+5XOuvAo2OmeC/tF9xnYqW36nEmBJNCacAg0fgm3Op+z8OFP5qfH5uiVgQxOAsFcI6TamvR+zzWtT2zL0lO72HRvsa6Kn9V8FGxNjwexic6yNDQYbb2sHYN/ZOYhp/dp6vQuiOTvZv+O3BDZsU4D7cmxTCcjQByDQmiiHZjyCJNX2N5RXwcYRh0g5qQS23LvYp8GWo1OODRtacOrIY+N/AmjML48Yp4Qm6opHszr/AWQqYScx58QTbLl2WqC536nx+bqSyObb1uYZvz1Ca/0s1a4Ytlx47ISA035M2DregYbFk++5/+NyI6Dvp2X+t8CGZp8CYDFsTKx0hwHa1F8V1Ov+BZj6Ek0Bis2SArM5cqNwa8DpV3djvijJA9wnpCLYdHzpOMr9AkIc2iCOTQADOLZcHx+KdNaed32yS3Bf/848fTMuzV+/lNk5vGsMOgHUL5txCR1q51cEW20ntAMsduHcPWuqD9oC59z9b8pH1C2nQDfYmCI7kc/0mrBPG9oueXwut0x/o+eusCEZdzOOnbmPACsvRyv3ON3rbF28f44C3WH7HGlipK0VCNhaKxr+kgoEbElpoqK1AgFba0XDX1KBgC0pTVS0ViBga61o+EsqELAlpYmK1goEbK0VDX9JBQK2pDRR0VqBgK21ouEvqcAPo34PGERLrnQAAAAASUVORK5CYII=)"
      ]
    },
    {
      "cell_type": "code",
      "metadata": {
        "id": "giFhgn4jkx9M"
      },
      "source": [
        "def weibulla_cdf(alpha, lambda_):\n",
        "\n",
        "  sample = weibullian(1, 1)\n",
        "  variation_range = sorted(sample)\n",
        "\n",
        "  Fx = []\n",
        "  for i in range(len(variation_range)):\n",
        "    xi = variation_range[i]\n",
        "    Fxi = 1 - math.exp(-lambda_ * xi ** alpha)\n",
        "    Fx.append(Fxi)\n",
        "\n",
        "  Fx = np.array(Fx)\n",
        "  return plt.plot(variation_range, Fx)"
      ],
      "execution_count": null,
      "outputs": []
    },
    {
      "cell_type": "code",
      "metadata": {
        "colab": {
          "base_uri": "https://localhost:8080/",
          "height": 298
        },
        "id": "7jgnykjkHdzZ",
        "outputId": "aafded6e-667b-4cb9-bc9c-49334f15a647"
      },
      "source": [
        "plt.title('Функция распределения') \n",
        "weibulla_cdf(0.5, 1)"
      ],
      "execution_count": null,
      "outputs": [
        {
          "output_type": "execute_result",
          "data": {
            "text/plain": [
              "[<matplotlib.lines.Line2D at 0x7f288b1dfda0>]"
            ]
          },
          "metadata": {
            "tags": []
          },
          "execution_count": 11
        },
        {
          "output_type": "display_data",
          "data": {
            "image/png": "[encoded data removed]",
            "text/plain": [
              "<Figure size 432x288 with 1 Axes>"
            ]
          },
          "metadata": {
            "tags": [],
            "needs_background": "light"
          }
        }
      ]
    },
    {
      "cell_type": "code",
      "metadata": {
        "colab": {
          "base_uri": "https://localhost:8080/",
          "height": 298
        },
        "id": "e1-ZsALsHd8_",
        "outputId": "ff7ce0bc-47d0-42d1-d44f-fe9eb98f5143"
      },
      "source": [
        "plt.title('Функция распределения')\n",
        "weibulla_cdf(1, 1)"
      ],
      "execution_count": null,
      "outputs": [
        {
          "output_type": "execute_result",
          "data": {
            "text/plain": [
              "[<matplotlib.lines.Line2D at 0x7f288b1dfb00>]"
            ]
          },
          "metadata": {
            "tags": []
          },
          "execution_count": 12
        },
        {
          "output_type": "display_data",
          "data": {
            "image/png": "[encoded data removed]",
            "text/plain": [
              "<Figure size 432x288 with 1 Axes>"
            ]
          },
          "metadata": {
            "tags": [],
            "needs_background": "light"
          }
        }
      ]
    },
    {
      "cell_type": "code",
      "metadata": {
        "colab": {
          "base_uri": "https://localhost:8080/",
          "height": 298
        },
        "id": "F3GtpqQuHeFI",
        "outputId": "b21c2449-98b7-443b-d50a-04e5d8adc1ad"
      },
      "source": [
        "plt.title('Функция распределения')\n",
        "weibulla_cdf(2, 1)"
      ],
      "execution_count": null,
      "outputs": [
        {
          "output_type": "execute_result",
          "data": {
            "text/plain": [
              "[<matplotlib.lines.Line2D at 0x7f288b1df400>]"
            ]
          },
          "metadata": {
            "tags": []
          },
          "execution_count": 13
        },
        {
          "output_type": "display_data",
          "data": {
            "image/png": "[encoded data removed]",
            "text/plain": [
              "<Figure size 432x288 with 1 Axes>"
            ]
          },
          "metadata": {
            "tags": [],
            "needs_background": "light"
          }
        }
      ]
    },
    {
      "cell_type": "markdown",
      "metadata": {
        "id": "EOjllupWxx8I"
      },
      "source": [
        "Функция значения процентилей:"
      ]
    },
    {
      "cell_type": "code",
      "metadata": {
        "id": "Ts3Rq0jrF2Zd"
      },
      "source": [
        "def weibulla_perc_func(alpha, lambda_):\n",
        "\n",
        "  sample = weibullian(alpha, lambda_)\n",
        "  perc = np.arange(0, 101, 1)\n",
        "  perc_func = np.percentile(sample, perc)\n",
        "\n",
        "  return plt.plot(perc_func, perc), plt.title('Функция значения процентилей')"
      ],
      "execution_count": null,
      "outputs": []
    },
    {
      "cell_type": "code",
      "metadata": {
        "colab": {
          "base_uri": "https://localhost:8080/",
          "height": 316
        },
        "id": "5UZF5Fjy8eLH",
        "outputId": "2cc25471-0cbe-4e9c-a94e-b5113782ecec"
      },
      "source": [
        "weibulla_perc_func(0.5, 1)"
      ],
      "execution_count": null,
      "outputs": [
        {
          "output_type": "execute_result",
          "data": {
            "text/plain": [
              "([<matplotlib.lines.Line2D at 0x7f288b154a58>],\n",
              " Text(0.5, 1.0, 'Функция значения процентилей'))"
            ]
          },
          "metadata": {
            "tags": []
          },
          "execution_count": 15
        },
        {
          "output_type": "display_data",
          "data": {
            "image/png": "[encoded data removed]",
            "text/plain": [
              "<Figure size 432x288 with 1 Axes>"
            ]
          },
          "metadata": {
            "tags": [],
            "needs_background": "light"
          }
        }
      ]
    },
    {
      "cell_type": "code",
      "metadata": {
        "colab": {
          "base_uri": "https://localhost:8080/",
          "height": 316
        },
        "id": "kkuAxI7Y8eap",
        "outputId": "fb8c943f-b948-4276-84db-93f95017e9f6"
      },
      "source": [
        "weibulla_perc_func(1, 1)"
      ],
      "execution_count": null,
      "outputs": [
        {
          "output_type": "execute_result",
          "data": {
            "text/plain": [
              "([<matplotlib.lines.Line2D at 0x7f288b031828>],\n",
              " Text(0.5, 1.0, 'Функция значения процентилей'))"
            ]
          },
          "metadata": {
            "tags": []
          },
          "execution_count": 16
        },
        {
          "output_type": "display_data",
          "data": {
            "image/png": "[encoded data removed]",
            "text/plain": [
              "<Figure size 432x288 with 1 Axes>"
            ]
          },
          "metadata": {
            "tags": [],
            "needs_background": "light"
          }
        }
      ]
    },
    {
      "cell_type": "code",
      "metadata": {
        "colab": {
          "base_uri": "https://localhost:8080/",
          "height": 316
        },
        "id": "g6CK2fn08eie",
        "outputId": "63e64723-3aee-4bb6-ba1a-cc23915620e7"
      },
      "source": [
        "weibulla_perc_func(2, 1)"
      ],
      "execution_count": null,
      "outputs": [
        {
          "output_type": "execute_result",
          "data": {
            "text/plain": [
              "([<matplotlib.lines.Line2D at 0x7f288af9b630>],\n",
              " Text(0.5, 1.0, 'Функция значения процентилей'))"
            ]
          },
          "metadata": {
            "tags": []
          },
          "execution_count": 17
        },
        {
          "output_type": "display_data",
          "data": {
            "image/png": "[encoded data removed]",
            "text/plain": [
              "<Figure size 432x288 with 1 Axes>"
            ]
          },
          "metadata": {
            "tags": [],
            "needs_background": "light"
          }
        }
      ]
    },
    {
      "cell_type": "markdown",
      "metadata": {
        "id": "PmSlI00yNnSw"
      },
      "source": [
        "Построение гистограммы:"
      ]
    },
    {
      "cell_type": "code",
      "metadata": {
        "id": "ghL6RBQnwY1c"
      },
      "source": [
        "def hist(alpha, lambda_):\n",
        "  sample = weibullian(alpha, lambda_)\n",
        "  h = (max(sample) - min(sample)) / (1 + math.log2(100))\n",
        "  q = round(1 + math.log2(100))\n",
        "  b = []\n",
        "  b.append(min(sample))\n",
        "  i = min(sample)\n",
        "  while i < max(sample):\n",
        "    i += h\n",
        "    i = round(i,1)\n",
        "    b.append(i)\n",
        "  return print(f'Величина интервала: {h}'), print(f'Количество интервалов, {q}'), plt.hist(sample, b), plt.title('Гистограмма')"
      ],
      "execution_count": null,
      "outputs": []
    },
    {
      "cell_type": "code",
      "metadata": {
        "colab": {
          "base_uri": "https://localhost:8080/",
          "height": 458
        },
        "id": "NAux8Sm15Gox",
        "outputId": "76b11675-d101-4363-ca05-7c916d9b418e"
      },
      "source": [
        "hist(0.5, 1)"
      ],
      "execution_count": null,
      "outputs": [
        {
          "output_type": "stream",
          "text": [
            "Величина интервала: 5.083995028095976\n",
            "Количество интервалов, 8\n"
          ],
          "name": "stdout"
        },
        {
          "output_type": "execute_result",
          "data": {
            "text/plain": [
              "(None,\n",
              " None,\n",
              " (array([88., 10.,  1.,  0.,  0.,  0.,  0.,  1.]),\n",
              "  array([4.10190657e-04, 5.10000000e+00, 1.02000000e+01, 1.53000000e+01,\n",
              "         2.04000000e+01, 2.55000000e+01, 3.06000000e+01, 3.57000000e+01,\n",
              "         4.08000000e+01]),\n",
              "  <a list of 8 Patch objects>),\n",
              " Text(0.5, 1.0, 'Гистограмма'))"
            ]
          },
          "metadata": {
            "tags": []
          },
          "execution_count": 19
        },
        {
          "output_type": "display_data",
          "data": {
            "image/png": "[encoded data removed]",
            "text/plain": [
              "<Figure size 432x288 with 1 Axes>"
            ]
          },
          "metadata": {
            "tags": [],
            "needs_background": "light"
          }
        }
      ]
    },
    {
      "cell_type": "code",
      "metadata": {
        "colab": {
          "base_uri": "https://localhost:8080/",
          "height": 441
        },
        "id": "7SiRR54f_qa_",
        "outputId": "99a24c50-e7ef-4352-9f33-c60cf7fb37f5"
      },
      "source": [
        "hist(1, 1)"
      ],
      "execution_count": null,
      "outputs": [
        {
          "output_type": "stream",
          "text": [
            "Величина интервала: 0.44129241987459783\n",
            "Количество интервалов, 8\n"
          ],
          "name": "stdout"
        },
        {
          "output_type": "execute_result",
          "data": {
            "text/plain": [
              "(None,\n",
              " None,\n",
              " (array([34., 32.,  7., 10., 10.,  3.,  3.,  0.,  1.]),\n",
              "  array([0.01074852, 0.5       , 0.9       , 1.3       , 1.7       ,\n",
              "         2.1       , 2.5       , 2.9       , 3.3       , 3.7       ]),\n",
              "  <a list of 9 Patch objects>),\n",
              " Text(0.5, 1.0, 'Гистограмма'))"
            ]
          },
          "metadata": {
            "tags": []
          },
          "execution_count": 20
        },
        {
          "output_type": "display_data",
          "data": {
            "image/png": "[encoded data removed]",
            "text/plain": [
              "<Figure size 432x288 with 1 Axes>"
            ]
          },
          "metadata": {
            "tags": [],
            "needs_background": "light"
          }
        }
      ]
    },
    {
      "cell_type": "code",
      "metadata": {
        "colab": {
          "base_uri": "https://localhost:8080/",
          "height": 441
        },
        "id": "1vs_S03t_qiA",
        "outputId": "b189e97d-e6d9-44e4-c908-2be9eb384c55"
      },
      "source": [
        "hist(2, 1)"
      ],
      "execution_count": null,
      "outputs": [
        {
          "output_type": "stream",
          "text": [
            "Величина интервала: 0.33789231936674186\n",
            "Количество интервалов, 8\n"
          ],
          "name": "stdout"
        },
        {
          "output_type": "execute_result",
          "data": {
            "text/plain": [
              "(None,\n",
              " None,\n",
              " (array([10., 18., 28., 19., 15.,  7.,  1.,  1.,  1.]),\n",
              "  array([0.04346226, 0.4       , 0.7       , 1.        , 1.3       ,\n",
              "         1.6       , 1.9       , 2.2       , 2.5       , 2.8       ]),\n",
              "  <a list of 9 Patch objects>),\n",
              " Text(0.5, 1.0, 'Гистограмма'))"
            ]
          },
          "metadata": {
            "tags": []
          },
          "execution_count": 21
        },
        {
          "output_type": "display_data",
          "data": {
            "image/png": "[encoded data removed]",
            "text/plain": [
              "<Figure size 432x288 with 1 Axes>"
            ]
          },
          "metadata": {
            "tags": [],
            "needs_background": "light"
          }
        }
      ]
    },
    {
      "cell_type": "markdown",
      "metadata": {
        "id": "nTVgZrymQMfr"
      },
      "source": [
        "## Получение точечных оценок (оценки, основанные на распределении $lnX$):\n"
      ]
    },
    {
      "cell_type": "markdown",
      "metadata": {
        "id": "9raOEOhXDeUs"
      },
      "source": [
        "Оценки параметров распределения для $\\alpha$ = 0.5 и $\\lambda$ = 1"
      ]
    },
    {
      "cell_type": "code",
      "metadata": {
        "id": "jcAIS0ulQMs3",
        "colab": {
          "base_uri": "https://localhost:8080/"
        },
        "outputId": "e2ce2be9-28d2-44f4-f95f-2e9d6caaab19"
      },
      "source": [
        "def parameter_estimation(alpha, lambda_):\n",
        "  sample = weibullian(alpha, lambda_)\n",
        "  n = 100\n",
        "  gamma = 0.5772 # постоянная Эйлера\n",
        "  sum_sqr = 0\n",
        "  for i in range(len(sample)):\n",
        "    sum_sqr += math.log(sample[i]) ** 2\n",
        "\n",
        "  sqr_sum = 0\n",
        "  for i in range(len(sample)):\n",
        "    sqr_sum += math.log(sample[i])\n",
        "  sqr_sum = sqr_sum ** 2\n",
        "\n",
        "  sum = 0\n",
        "  for i in range(len(sample)):\n",
        "    sum += math.log(sample[i])\n",
        "\n",
        "  alpha_estim = (math.pi * math.sqrt(n * (n - 1))) / (math.sqrt(6 * ((n * sum_sqr) - sqr_sum)))\n",
        "  lambda_estim = math.e ** ((1 / n) * sum + gamma / alpha_estim)\n",
        "  return [alpha_estim, lambda_estim]\n",
        "\n",
        "print(f'Оценки параметров alpha и lambda, основанные на распределении lnX: {parameter_estimation(0.5, 1)}')\n",
        "\n",
        "# (оценки параметров [0.5248971833728339, 0.14618654314010276]) (1.8356647376819304 - значение Гамма-функции для 1 + 1/alpha)\n",
        "# (18.107720748121302 - значение Гамма-функции для 1 + 2/alpha)"
      ],
      "execution_count": null,
      "outputs": [
        {
          "output_type": "stream",
          "text": [
            "Оценки параметров alpha и lambda, основанные на распределении lnX: [0.4488352777460857, 1.121069471214625]\n"
          ],
          "name": "stdout"
        }
      ]
    },
    {
      "cell_type": "markdown",
      "metadata": {
        "id": "v6i3cGfqDB3k"
      },
      "source": [
        "Оценки мат. ожидания и дисперсии для $\\alpha$ = 0.5 и $\\lambda$ = 1"
      ]
    },
    {
      "cell_type": "code",
      "metadata": {
        "colab": {
          "base_uri": "https://localhost:8080/"
        },
        "id": "6dx7PQq89aDp",
        "outputId": "0c078306-0e98-439c-a7d2-be71e9eba8ec"
      },
      "source": [
        "EX_estim = parameter_estimation(0.5, 1)[1] * 1.8356647376819304 # мат. ожидание \n",
        "DX_estim = (parameter_estimation(0.5, 1)[1] ** 2) * (18.107720748121302 - 1.8356647376819304 ** 2) # дисперсия \n",
        "alpha, lambda_ = 0.5, 1\n",
        "EX = lambda_ * math.factorial((1 + 1 / alpha) - 1)\n",
        "DX = (lambda_ ** 2) * (math.factorial((1 + 2 / alpha) - 1) - math.factorial((1 + 1 / alpha) - 1) ** 2) # дисперсия\n",
        "print(f'Оценка мат. ожидания: {EX_estim}')\n",
        "print(f'Оценка дисперсии: {DX_estim}')\n",
        "print(f'Мат. ожидание: {EX}')\n",
        "print(f'Дисперсия: {DX}')"
      ],
      "execution_count": null,
      "outputs": [
        {
          "output_type": "stream",
          "text": [
            "Оценка мат. ожидания: 1.7842023993464775\n",
            "Оценка дисперсии: 26.21289817868818\n",
            "Мат. ожидание: 2\n",
            "Дисперсия: 20\n"
          ],
          "name": "stdout"
        }
      ]
    },
    {
      "cell_type": "markdown",
      "metadata": {
        "id": "Gkj-Q-xODnyv"
      },
      "source": [
        "Оценки параметров распределения для $\\alpha$ = 1 и $\\lambda$ = 1"
      ]
    },
    {
      "cell_type": "code",
      "metadata": {
        "id": "2uy7TYikQQXo",
        "colab": {
          "base_uri": "https://localhost:8080/"
        },
        "outputId": "5b62e6d3-52c3-4f0e-cd76-2ac6d0d8c8de"
      },
      "source": [
        "print(f'Оценки параметров, основанные на распределении lnX: {parameter_estimation(1, 1)}')\n",
        "\n",
        "# (оценки параметров [1.1038729631087203, 0.9604815271038675]) (0.9638010869425846 - значение Гамма-функции для 1 + 1/alpha)\n",
        "# (1.693255977169247 - значение Гамма-функции для 1 + 2/alpha)"
      ],
      "execution_count": null,
      "outputs": [
        {
          "output_type": "stream",
          "text": [
            "Оценки параметров, основанные на распределении lnX: [0.9060585533726007, 1.1032622840954065]\n"
          ],
          "name": "stdout"
        }
      ]
    },
    {
      "cell_type": "markdown",
      "metadata": {
        "id": "hEP8-mypD8SD"
      },
      "source": [
        "Оценки мат. ожидания и дисперсии для $\\alpha$ = 1 и $\\lambda$ = 1"
      ]
    },
    {
      "cell_type": "code",
      "metadata": {
        "colab": {
          "base_uri": "https://localhost:8080/"
        },
        "id": "CbQcKdSQ-EIU",
        "outputId": "adc4489a-229b-46a9-f7b4-9647378d7e73"
      },
      "source": [
        "EX_estim = parameter_estimation(1, 1)[1] * 0.9638010869425846 # мат. ожидание \n",
        "DX_estim = (parameter_estimation(1, 1)[1] ** 2) * (1.693255977169247 - 0.9638010869425846 ** 2) # дисперсия \n",
        "alpha, lambda_ = 1, 1\n",
        "EX = lambda_ * math.factorial((1 + 1 / alpha) - 1)\n",
        "DX = (lambda_ ** 2) * (math.factorial((1 + 2 / alpha) - 1) - math.factorial((1 + 1 / alpha) - 1) ** 2) # дисперсия\n",
        "print(f'Оценка мат. ожидания: {EX_estim}')\n",
        "print(f'Оценка дисперсии: {DX_estim}')\n",
        "print(f'Мат. ожидание: {EX}')\n",
        "print(f'Дисперсия: {DX}')"
      ],
      "execution_count": null,
      "outputs": [
        {
          "output_type": "stream",
          "text": [
            "Оценка мат. ожидания: 0.927092065812906\n",
            "Оценка дисперсии: 1.2464186707025484\n",
            "Мат. ожидание: 1\n",
            "Дисперсия: 1\n"
          ],
          "name": "stdout"
        }
      ]
    },
    {
      "cell_type": "markdown",
      "metadata": {
        "id": "QJS4I6krELZK"
      },
      "source": [
        "Оценки параметров распределения для  α  = 2 и  λ  = 1"
      ]
    },
    {
      "cell_type": "code",
      "metadata": {
        "colab": {
          "base_uri": "https://localhost:8080/"
        },
        "id": "0tPyP3dOEL8c",
        "outputId": "6419673f-ffb3-4126-d657-0fe98df41327"
      },
      "source": [
        "print(f'Оценки параметров, основанные на распределении lnX: {parameter_estimation(2, 1)}')\n",
        "\n",
        "# (оценки параметров [2.0815028920090977, 1.1001230063412992]) (0.8857536298189356 - значение Гамма-функции для 1 + 1/alpha)\n",
        "# (0.9840722459841413 - значение Гамма-функции для 1 + 2/alpha)"
      ],
      "execution_count": null,
      "outputs": [
        {
          "output_type": "stream",
          "text": [
            "Оценки параметров, основанные на распределении lnX: [2.236879897049789, 1.0415420963786945]\n"
          ],
          "name": "stdout"
        }
      ]
    },
    {
      "cell_type": "markdown",
      "metadata": {
        "id": "3FfbikaUEMFk"
      },
      "source": [
        "Оценки мат. ожидания и дисперсии для $\\alpha$ = 2 и $\\lambda$ = 1"
      ]
    },
    {
      "cell_type": "code",
      "metadata": {
        "colab": {
          "base_uri": "https://localhost:8080/"
        },
        "id": "JRia5eDIEMQc",
        "outputId": "07ade6ea-6a8d-4de2-e4de-5cc80d71e856"
      },
      "source": [
        "alpha, lambda_ = 2, 1\n",
        "\n",
        "EX_estim = parameter_estimation(2, 1)[1] * 0.8857536298189356 # мат. ожидание \n",
        "DX_estim = (parameter_estimation(2, 1)[1] ** 2) * (0.9840722459841413 - 0.8857536298189356 ** 2) # дисперсия \n",
        "alpha, lambda_ = 2, 1\n",
        "EX = lambda_ * gamma_func(1, alpha) # мат. ожидание \n",
        "DX = (lambda_ ** 2) * gamma_func(2, alpha) - gamma_func(1, alpha) ** 2 # дисперсия \n",
        "print(f'Оценка мат. ожидания: {EX_estim}')\n",
        "print(f'Оценка дисперсии: {DX_estim}')\n",
        "print(f'Мат. ожидание: {EX}')\n",
        "print(f'Дисперсия: {DX}')"
      ],
      "execution_count": null,
      "outputs": [
        {
          "output_type": "stream",
          "text": [
            "Оценка мат. ожидания: 0.9056422096800555\n",
            "Оценка дисперсии: 0.17249124630096827\n",
            "Мат. ожидание: 0.8862269254527579\n",
            "Дисперсия: 0.21460183660255183\n"
          ],
          "name": "stdout"
        }
      ]
    },
    {
      "cell_type": "markdown",
      "metadata": {
        "id": "kasZntZ-bI6E"
      },
      "source": [
        "## Получение интервальных оценок:"
      ]
    },
    {
      "cell_type": "markdown",
      "metadata": {
        "id": "FoWRLiQUngnU"
      },
      "source": [
        "Оценки мат.ожидания и дисперсии при  α  = 0.5 и  λ  = 1"
      ]
    },
    {
      "cell_type": "code",
      "metadata": {
        "id": "kPgBXTJ3Exoi",
        "colab": {
          "base_uri": "https://localhost:8080/"
        },
        "outputId": "824960a4-5971-4cb0-b2b4-ae5e157545a4"
      },
      "source": [
        "n = 100\n",
        "sample = weibullian(0.5, 1)\n",
        "laplass_func = 1.96 # значение обратной функции Лапласса\n",
        "sum = 0\n",
        "for i in sample:\n",
        "    sum += i\n",
        "sample_mean = sum/100\n",
        "\n",
        "sample_EX = 0\n",
        "for i in range(len(sample)):\n",
        "  sample_EX += sample[i] * 0.01\n",
        "\n",
        "sum = 0\n",
        "for i in sample:\n",
        "    sum += (i - sample_EX) ** 2\n",
        "sample_DX = sum / len(sample)\n",
        "sample_DX1 = sum / (n - 1)\n",
        "\n",
        "e = math.sqrt(sample_DX / n) * laplass_func\n",
        "lower_b, upper_b = sample_EX - e, sample_EX + e\n",
        "print(f'Доверительный интервал для мат ожидания: {lower_b, upper_b}')\n",
        "e = math.sqrt(2/(n-1)) * (sample_DX1) * laplass_func\n",
        "lower_b, upper_b = sample_DX1 - e, sample_DX1 + e\n",
        "print(f'Доверительный интервал для дисперсии: {lower_b, upper_b}')\n",
        "print(f'Выборочное среднее: {sample_mean}')\n",
        "print(f'Выборочная дисперсия (смещённая): {sample_DX}')\n",
        "print(f'Выборочная дисперсия (несмещённая): {sample_DX1}')"
      ],
      "execution_count": null,
      "outputs": [
        {
          "output_type": "stream",
          "text": [
            "Доверительный интервал для мат ожидания: (1.0912721341047484, 2.3048201025981054)\n",
            "Доверительный интервал для дисперсии: (6.983825485005421, 12.377565810213973)\n",
            "Выборочное среднее: 1.698046118351428\n",
            "Выборочная дисперсия (смещённая): 9.5838886911336\n",
            "Выборочная дисперсия (несмещённая): 9.680695647609697\n"
          ],
          "name": "stdout"
        }
      ]
    },
    {
      "cell_type": "markdown",
      "metadata": {
        "id": "a6uSmJ2vn1qh"
      },
      "source": [
        "Оценки мат.ожидания и дисперсии при  α  = 1 и  λ  = 1"
      ]
    },
    {
      "cell_type": "code",
      "metadata": {
        "colab": {
          "base_uri": "https://localhost:8080/"
        },
        "id": "LxtoPTvnlgN1",
        "outputId": "f1367078-3e5b-4091-ea9e-b4823911b851"
      },
      "source": [
        "sample = weibullian(1, 1)\n",
        "laplass_func = 1.96 # значение обратной функции Лапласса\n",
        "sum = 0\n",
        "for i in sample:\n",
        "    sum += i\n",
        "sample_mean = sum/100\n",
        "\n",
        "sample_EX = 0\n",
        "for i in range(len(sample)):\n",
        "  sample_EX += sample[i] * 0.01\n",
        "\n",
        "sum = 0\n",
        "for i in sample:\n",
        "    sum += (i - sample_EX) ** 2\n",
        "sample_DX = sum / len(sample)\n",
        "sample_DX1 = sum/99\n",
        "\n",
        "e = math.sqrt(sample_DX / n) * laplass_func\n",
        "lower_b, upper_b = sample_EX - e, sample_EX + e\n",
        "print(f'Доверительный интервал для мат ожидания: {lower_b, upper_b}')\n",
        "e = math.sqrt (2/(n-1)) * (sample_DX1) * laplass_func\n",
        "lower_b, upper_b = sample_DX1 - e, sample_DX1 + e\n",
        "print(f'Доверительный интервал для дисперсии: {lower_b, upper_b}')\n",
        "print(f'Выборочное среднее: {sample_mean}')\n",
        "print(f'Выборочная дисперсия (смещённая): {sample_DX}')\n",
        "print(f'Выборочная дисперсия (несмещённая): {sample_DX1}')"
      ],
      "execution_count": null,
      "outputs": [
        {
          "output_type": "stream",
          "text": [
            "Доверительный интервал для мат ожидания: (0.9338735897198421, 1.3213710773294098)\n",
            "Доверительный интервал для дисперсии: (0.7120611075150229, 1.261999349508975)\n",
            "Выборочное среднее: 1.1276223335246263\n",
            "Выборочная дисперсия (смещённая): 0.977159926226879\n",
            "Выборочная дисперсия (несмещённая): 0.987030228511999\n"
          ],
          "name": "stdout"
        }
      ]
    },
    {
      "cell_type": "markdown",
      "metadata": {
        "id": "XTHp3vvFn7nR"
      },
      "source": [
        "Оценки мат.ожидания и дисперсии при  α  = 2 и  λ  = 1"
      ]
    },
    {
      "cell_type": "code",
      "metadata": {
        "colab": {
          "base_uri": "https://localhost:8080/"
        },
        "id": "I7Otxo11n5cQ",
        "outputId": "7b1c6495-cc38-4a0a-ed4e-f94627b96f8d"
      },
      "source": [
        "sample = weibullian(2, 1)\n",
        "laplass_func = 1.96 # значение обратной функции Лапласса\n",
        "sum=0\n",
        "for i in sample:\n",
        "    sum += i\n",
        "sample_mean = sum/100\n",
        "\n",
        "sample_EX = 0\n",
        "for i in range(len(sample)):\n",
        "  sample_EX += sample[i] * 0.01\n",
        "\n",
        "sum = 0\n",
        "for i in sample:\n",
        "    sum += (i - sample_EX) ** 2\n",
        "sample_DX = sum / len(sample)\n",
        "sample_DX1 = sum/99\n",
        "\n",
        "e = math.sqrt(sample_DX / n) * laplass_func\n",
        "lower_b, upper_b = sample_EX - e, sample_EX + e\n",
        "print(f'Доверительный интервал для мат ожидания: {lower_b, upper_b}')\n",
        "e = math.sqrt (2/(n-1)) * (sample_DX1) * laplass_func\n",
        "lower_b, upper_b = sample_DX1 - e, sample_DX1 + e\n",
        "print(f'Доверительный интервал для дисперсии: {lower_b, upper_b}')\n",
        "print(f'Выборочное среднее: {sample_mean}')\n",
        "print(f'Выборочная дисперсия (смещённая): {sample_DX}')\n",
        "print(f'Выборочная дисперсия (несмещённая): {sample_DX1}')"
      ],
      "execution_count": null,
      "outputs": [
        {
          "output_type": "stream",
          "text": [
            "Доверительный интервал для мат ожидания: (0.7262235606315874, 0.9155126476018114)\n",
            "Доверительный интервал для дисперсии: (0.16991457603510798, 0.30114281227454276)\n",
            "Выборочное среднее: 0.8208681041166994\n",
            "Выборочная дисперсия (смещённая): 0.23317340721327715\n",
            "Выборочная дисперсия (несмещённая): 0.23552869415482539\n"
          ],
          "name": "stdout"
        }
      ]
    }
  ]
}